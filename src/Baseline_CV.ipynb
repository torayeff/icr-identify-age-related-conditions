{
 "cells": [
  {
   "cell_type": "code",
   "execution_count": 1,
   "metadata": {},
   "outputs": [],
   "source": [
    "from pathlib import Path\n",
    "\n",
    "import catboost as cb\n",
    "from catboost import Pool, cv\n",
    "import numpy as np\n",
    "import pandas as pd\n",
    "from iterstrat.ml_stratifiers import MultilabelStratifiedKFold"
   ]
  },
  {
   "cell_type": "code",
   "execution_count": 2,
   "metadata": {},
   "outputs": [],
   "source": [
    "data_path = Path(\"../data/\")\n",
    "seed = 42"
   ]
  },
  {
   "cell_type": "code",
   "execution_count": 3,
   "metadata": {},
   "outputs": [],
   "source": [
    "def balanced_log_loss(y_true, y_pred):\n",
    "    y_pred = np.clip(y_pred, 1e-15, 1 - 1e-15)\n",
    "\n",
    "    n0, n1 = np.bincount(y_true.astype(int))\n",
    "    w0 = 1 / (n0 / len(y_true))\n",
    "    w1 = 1 / (n1 / len(y_true))\n",
    "\n",
    "    l0 = -w0 / n0 * np.sum(np.where(y_true == 0, 1, 0) * np.log(1 - y_pred))\n",
    "    l1 = -w1 / n1 * np.sum(np.where(y_true != 0, 1, 0) * np.log(y_pred))\n",
    "\n",
    "    return (l0 + l1) / (w0 + w1)\n",
    "\n",
    "\n",
    "def lgb_metric(y_true, y_pred):\n",
    "    return \"balanced_log_loss\", balanced_log_loss(y_true, y_pred), False"
   ]
  },
  {
   "cell_type": "code",
   "execution_count": 4,
   "metadata": {},
   "outputs": [],
   "source": [
    "# read data\n",
    "train_df = pd.read_csv(data_path / \"train.csv\")\n",
    "test_df = pd.read_csv(data_path / \"test.csv\")\n",
    "greeks_df = pd.read_csv(data_path / \"greeks.csv\")"
   ]
  },
  {
   "cell_type": "code",
   "execution_count": 5,
   "metadata": {},
   "outputs": [],
   "source": [
    "# some columns have trailing spaces\n",
    "train_df.columns = train_df.columns.str.strip()\n",
    "test_df.columns = test_df.columns.str.strip()\n",
    "feature_cols = train_df.columns.tolist()[1:-1]"
   ]
  },
  {
   "cell_type": "code",
   "execution_count": 6,
   "metadata": {},
   "outputs": [],
   "source": [
    "# training\n",
    "oof = np.zeros(len(train_df))\n",
    "skf = MultilabelStratifiedKFold(n_splits=5, shuffle=True, random_state=seed)\n",
    "test_probs = []"
   ]
  },
  {
   "cell_type": "code",
   "execution_count": 7,
   "metadata": {},
   "outputs": [
    {
     "data": {
      "application/vnd.jupyter.widget-view+json": {
       "model_id": "e8fb03dcb5954db18635f8156c3f9bab",
       "version_major": 2,
       "version_minor": 0
      },
      "text/plain": [
       "MetricVisualizer(layout=Layout(align_self='stretch', height='500px'))"
      ]
     },
     "metadata": {},
     "output_type": "display_data"
    }
   ],
   "source": [
    "cv_params = {\n",
    "    \"iterations\": 10000,\n",
    "    \"learning_rate\": 0.005,\n",
    "    # \"early_stopping_rounds\": 1000,\n",
    "    # \"auto_class_weights\": \"Balanced\",\n",
    "    \"loss_function\": \"MultiClass\",\n",
    "    # \"eval_metric\": \"MultiClass:use_weights=False\",\n",
    "    # \"random_seed\": 42,\n",
    "    # \"use_best_model\": True,\n",
    "    # \"l2_leaf_reg\": 1,\n",
    "    # \"max_ctr_complexity\": 15,\n",
    "    # \"max_depth\": 10,\n",
    "    # \"grow_policy\": \"Lossguide\",\n",
    "    # \"max_leaves\": 64,\n",
    "    # \"min_data_in_leaf\": 40,\n",
    "    \"logging_level\": \"Silent\"\n",
    "}\n",
    "cv_dataset = Pool(\n",
    "    data=train_df[feature_cols], label=train_df[\"Class\"], cat_features=[\"EJ\"]\n",
    ")\n",
    "scores = cv(cv_dataset, cv_params, fold_count=5, plot=\"True\")\n"
   ]
  },
  {
   "cell_type": "code",
   "execution_count": 9,
   "metadata": {},
   "outputs": [
    {
     "data": {
      "text/html": [
       "<div>\n",
       "<style scoped>\n",
       "    .dataframe tbody tr th:only-of-type {\n",
       "        vertical-align: middle;\n",
       "    }\n",
       "\n",
       "    .dataframe tbody tr th {\n",
       "        vertical-align: top;\n",
       "    }\n",
       "\n",
       "    .dataframe thead th {\n",
       "        text-align: right;\n",
       "    }\n",
       "</style>\n",
       "<table border=\"1\" class=\"dataframe\">\n",
       "  <thead>\n",
       "    <tr style=\"text-align: right;\">\n",
       "      <th></th>\n",
       "      <th>iterations</th>\n",
       "      <th>test-MultiClass-mean</th>\n",
       "      <th>test-MultiClass-std</th>\n",
       "      <th>train-MultiClass-mean</th>\n",
       "      <th>train-MultiClass-std</th>\n",
       "    </tr>\n",
       "  </thead>\n",
       "  <tbody>\n",
       "    <tr>\n",
       "      <th>0</th>\n",
       "      <td>0</td>\n",
       "      <td>0.690798</td>\n",
       "      <td>0.000212</td>\n",
       "      <td>0.690612</td>\n",
       "      <td>0.000157</td>\n",
       "    </tr>\n",
       "    <tr>\n",
       "      <th>1</th>\n",
       "      <td>1</td>\n",
       "      <td>0.688434</td>\n",
       "      <td>0.000548</td>\n",
       "      <td>0.688061</td>\n",
       "      <td>0.000473</td>\n",
       "    </tr>\n",
       "    <tr>\n",
       "      <th>2</th>\n",
       "      <td>2</td>\n",
       "      <td>0.685976</td>\n",
       "      <td>0.000775</td>\n",
       "      <td>0.685481</td>\n",
       "      <td>0.000724</td>\n",
       "    </tr>\n",
       "    <tr>\n",
       "      <th>3</th>\n",
       "      <td>3</td>\n",
       "      <td>0.683862</td>\n",
       "      <td>0.000765</td>\n",
       "      <td>0.683088</td>\n",
       "      <td>0.000480</td>\n",
       "    </tr>\n",
       "    <tr>\n",
       "      <th>4</th>\n",
       "      <td>4</td>\n",
       "      <td>0.681669</td>\n",
       "      <td>0.000639</td>\n",
       "      <td>0.680663</td>\n",
       "      <td>0.000315</td>\n",
       "    </tr>\n",
       "  </tbody>\n",
       "</table>\n",
       "</div>"
      ],
      "text/plain": [
       "   iterations  test-MultiClass-mean  test-MultiClass-std  \\\n",
       "0           0              0.690798             0.000212   \n",
       "1           1              0.688434             0.000548   \n",
       "2           2              0.685976             0.000775   \n",
       "3           3              0.683862             0.000765   \n",
       "4           4              0.681669             0.000639   \n",
       "\n",
       "   train-MultiClass-mean  train-MultiClass-std  \n",
       "0               0.690612              0.000157  \n",
       "1               0.688061              0.000473  \n",
       "2               0.685481              0.000724  \n",
       "3               0.683088              0.000480  \n",
       "4               0.680663              0.000315  "
      ]
     },
     "execution_count": 9,
     "metadata": {},
     "output_type": "execute_result"
    }
   ],
   "source": [
    "scores.head()"
   ]
  },
  {
   "cell_type": "code",
   "execution_count": 8,
   "metadata": {},
   "outputs": [
    {
     "name": "stdout",
     "output_type": "stream",
     "text": [
      "0:\tlearn: 0.6906482\ttest: 0.6912274\tbest: 0.6912274 (0)\ttotal: 174ms\tremaining: 29m 3s\n",
      "1000:\tlearn: 0.1061947\ttest: 0.2128374\tbest: 0.2128374 (1000)\ttotal: 9.65s\tremaining: 1m 26s\n",
      "2000:\tlearn: 0.0252801\ttest: 0.1843363\tbest: 0.1838559 (1943)\ttotal: 18.6s\tremaining: 1m 14s\n",
      "Stopped by overfitting detector  (1000 iterations wait)\n",
      "\n",
      "bestTest = 0.1838559036\n",
      "bestIteration = 1943\n",
      "\n",
      "Shrink model to first 1944 iterations.\n",
      "0:\tlearn: 0.6908401\ttest: 0.6908988\tbest: 0.6908988 (0)\ttotal: 7.75ms\tremaining: 1m 17s\n",
      "1000:\tlearn: 0.1083615\ttest: 0.2026649\tbest: 0.2026576 (999)\ttotal: 9.22s\tremaining: 1m 22s\n",
      "2000:\tlearn: 0.0247290\ttest: 0.1568647\tbest: 0.1567780 (1989)\ttotal: 18.3s\tremaining: 1m 13s\n",
      "3000:\tlearn: 0.0092830\ttest: 0.1598822\tbest: 0.1564179 (2187)\ttotal: 27.2s\tremaining: 1m 3s\n",
      "Stopped by overfitting detector  (1000 iterations wait)\n",
      "\n",
      "bestTest = 0.1564179385\n",
      "bestIteration = 2187\n",
      "\n",
      "Shrink model to first 2188 iterations.\n",
      "0:\tlearn: 0.6906621\ttest: 0.6909199\tbest: 0.6909199 (0)\ttotal: 20.1ms\tremaining: 3m 21s\n",
      "1000:\tlearn: 0.1089275\ttest: 0.2286016\tbest: 0.2286016 (1000)\ttotal: 9.07s\tremaining: 1m 21s\n",
      "2000:\tlearn: 0.0262448\ttest: 0.1629091\tbest: 0.1627955 (1998)\ttotal: 17.9s\tremaining: 1m 11s\n",
      "3000:\tlearn: 0.0100597\ttest: 0.1535121\tbest: 0.1533976 (2989)\ttotal: 26.2s\tremaining: 1m 1s\n",
      "4000:\tlearn: 0.0056716\ttest: 0.1514719\tbest: 0.1513573 (3921)\ttotal: 34.4s\tremaining: 51.7s\n",
      "5000:\tlearn: 0.0038258\ttest: 0.1523107\tbest: 0.1513395 (4366)\ttotal: 42.1s\tremaining: 42.1s\n",
      "Stopped by overfitting detector  (1000 iterations wait)\n",
      "\n",
      "bestTest = 0.1513395293\n",
      "bestIteration = 4366\n",
      "\n",
      "Shrink model to first 4367 iterations.\n",
      "0:\tlearn: 0.6911370\ttest: 0.6912754\tbest: 0.6912754 (0)\ttotal: 14.3ms\tremaining: 2m 22s\n",
      "1000:\tlearn: 0.1103548\ttest: 0.2018700\tbest: 0.2018700 (1000)\ttotal: 9.19s\tremaining: 1m 22s\n",
      "2000:\tlearn: 0.0266835\ttest: 0.1369464\tbest: 0.1369464 (2000)\ttotal: 18.3s\tremaining: 1m 13s\n",
      "3000:\tlearn: 0.0099586\ttest: 0.1248425\tbest: 0.1248022 (2985)\ttotal: 27.1s\tremaining: 1m 3s\n",
      "4000:\tlearn: 0.0055144\ttest: 0.1234894\tbest: 0.1233775 (3556)\ttotal: 35.6s\tremaining: 53.4s\n",
      "5000:\tlearn: 0.0036741\ttest: 0.1232329\tbest: 0.1227311 (4269)\ttotal: 44.4s\tremaining: 44.4s\n",
      "Stopped by overfitting detector  (1000 iterations wait)\n",
      "\n",
      "bestTest = 0.1227311066\n",
      "bestIteration = 4269\n",
      "\n",
      "Shrink model to first 4270 iterations.\n",
      "0:\tlearn: 0.6905521\ttest: 0.6909321\tbest: 0.6909321 (0)\ttotal: 19.7ms\tremaining: 3m 16s\n",
      "1000:\tlearn: 0.1085999\ttest: 0.2257722\tbest: 0.2257722 (1000)\ttotal: 9.17s\tremaining: 1m 22s\n",
      "2000:\tlearn: 0.0253246\ttest: 0.1795264\tbest: 0.1794440 (1998)\ttotal: 18.4s\tremaining: 1m 13s\n",
      "3000:\tlearn: 0.0095518\ttest: 0.1869080\tbest: 0.1784451 (2254)\ttotal: 26.9s\tremaining: 1m 2s\n",
      "Stopped by overfitting detector  (1000 iterations wait)\n",
      "\n",
      "bestTest = 0.1784451106\n",
      "bestIteration = 2254\n",
      "\n",
      "Shrink model to first 2255 iterations.\n",
      "OOF score: 0.3971\n"
     ]
    }
   ],
   "source": [
    "# for train_idx, val_idx in skf.split(train_df, greeks_df.iloc[:, 1:-1]):\n",
    "\n",
    "#     X_train, y_train = (\n",
    "#         train_df.loc[train_idx, feature_cols],\n",
    "#         train_df.loc[train_idx, \"Class\"],\n",
    "#     )\n",
    "\n",
    "#     X_val, y_val = (\n",
    "#         train_df.loc[val_idx, feature_cols],\n",
    "#         train_df.loc[val_idx, \"Class\"],\n",
    "#     )\n",
    "\n",
    "#     params = {\n",
    "#         \"iterations\": 10000,\n",
    "#         \"learning_rate\": 0.005,\n",
    "#         \"early_stopping_rounds\": 1000,\n",
    "#         \"auto_class_weights\": \"Balanced\",\n",
    "#         \"loss_function\": \"MultiClass\",\n",
    "#         \"eval_metric\": \"MultiClass:use_weights=False\",\n",
    "#         \"random_seed\": 42,\n",
    "#         \"use_best_model\": True,\n",
    "#         \"l2_leaf_reg\": 1,\n",
    "#         \"max_ctr_complexity\": 15,\n",
    "#         \"max_depth\": 10,\n",
    "#         \"grow_policy\": \"Lossguide\",\n",
    "#         \"max_leaves\": 64,\n",
    "#         \"min_data_in_leaf\": 40,\n",
    "#     }\n",
    "#     model = cb.CatBoostClassifier(**params)\n",
    "#     model.fit(\n",
    "#         X_train, y_train, eval_set=[(X_val, y_val)], cat_features=[\"EJ\"], verbose=1000\n",
    "#     )\n",
    "#     preds = model.predict_proba(X_val)\n",
    "#     oof[val_idx] = model.predict_proba(X_val)[:, 1]\n",
    "#     test_probs.append(model.predict_proba(test_df.iloc[:, 1:]))\n",
    "\n",
    "# print(f\"OOF score: {balanced_log_loss(train_df['Class'], oof):.4f}\")\n"
   ]
  },
  {
   "cell_type": "code",
   "execution_count": 9,
   "metadata": {},
   "outputs": [],
   "source": [
    "# # generate a submission file\n",
    "# test_probs = np.mean(test_probs, axis=0)\n",
    "# sub_df = pd.DataFrame(\n",
    "#     {\"Id\": test_df.Id, \"Class_0\": test_probs[:, 0], \"Class_1\": test_probs[:, 1]}\n",
    "# )\n",
    "# sub_df.to_csv(\"submission.csv\", index=False)\n"
   ]
  },
  {
   "cell_type": "code",
   "execution_count": null,
   "metadata": {},
   "outputs": [],
   "source": []
  }
 ],
 "metadata": {
  "kernelspec": {
   "display_name": "base",
   "language": "python",
   "name": "python3"
  },
  "language_info": {
   "codemirror_mode": {
    "name": "ipython",
    "version": 3
   },
   "file_extension": ".py",
   "mimetype": "text/x-python",
   "name": "python",
   "nbconvert_exporter": "python",
   "pygments_lexer": "ipython3",
   "version": "3.9.13"
  },
  "orig_nbformat": 4
 },
 "nbformat": 4,
 "nbformat_minor": 2
}
