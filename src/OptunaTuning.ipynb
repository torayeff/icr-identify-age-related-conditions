{
 "cells": [
  {
   "cell_type": "code",
   "execution_count": null,
   "metadata": {},
   "outputs": [],
   "source": [
    "from pathlib import Path\n",
    "\n",
    "import catboost as cb\n",
    "import numpy as np\n",
    "import optuna\n",
    "import pandas as pd\n",
    "from iterstrat.ml_stratifiers import MultilabelStratifiedKFold"
   ]
  },
  {
   "cell_type": "code",
   "execution_count": null,
   "metadata": {},
   "outputs": [],
   "source": [
    "data_path = Path(\"../data/\")\n",
    "seed = 42"
   ]
  },
  {
   "cell_type": "code",
   "execution_count": null,
   "metadata": {},
   "outputs": [],
   "source": [
    "def balanced_log_loss(y_true, y_pred):\n",
    "    y_pred = np.clip(y_pred, 1e-15, 1 - 1e-15)\n",
    "\n",
    "    n0, n1 = np.bincount(y_true.astype(int))\n",
    "    w0 = 1 / (n0 / len(y_true))\n",
    "    w1 = 1 / (n1 / len(y_true))\n",
    "\n",
    "    l0 = -w0 / n0 * np.sum(np.where(y_true == 0, 1, 0) * np.log(1 - y_pred))\n",
    "    l1 = -w1 / n1 * np.sum(np.where(y_true != 0, 1, 0) * np.log(y_pred))\n",
    "\n",
    "    return (l0 + l1) / (w0 + w1)\n"
   ]
  },
  {
   "cell_type": "code",
   "execution_count": null,
   "metadata": {},
   "outputs": [],
   "source": [
    "# read data\n",
    "train_df = pd.read_csv(data_path / \"train.csv\")\n",
    "test_df = pd.read_csv(data_path / \"test.csv\")\n",
    "greeks_df = pd.read_csv(data_path / \"greeks.csv\")"
   ]
  },
  {
   "cell_type": "code",
   "execution_count": null,
   "metadata": {},
   "outputs": [],
   "source": [
    "# some columns have trailing spaces\n",
    "train_df.columns = train_df.columns.str.strip()\n",
    "test_df.columns = test_df.columns.str.strip()\n",
    "feature_cols = train_df.columns.tolist()[1:-1]"
   ]
  },
  {
   "cell_type": "code",
   "execution_count": null,
   "metadata": {},
   "outputs": [],
   "source": [
    "def objective(trial):\n",
    "    oof = np.zeros(len(train_df))\n",
    "    skf = MultilabelStratifiedKFold(n_splits=5, shuffle=True, random_state=seed)\n",
    "\n",
    "    params = {\n",
    "        \"iterations\": trial.suggest_int(\"iterations\", 1000, 10000),\n",
    "        # \"early_stopping_rounds\": 1000,\n",
    "        \"use_best_model\": True,\n",
    "        \"learning_rate\": trial.suggest_float(\"learning_rate\", 1e-3, 0.1),\n",
    "        \"l2_leaf_reg\": trial.suggest_int(\"l2_leaf_reg\", 1, 10),\n",
    "        \"random_strength\": trial.suggest_int(\"random_strength\", 1, 10),\n",
    "        \"bagging_temperature\": trial.suggest_float(\"bagging_temperature\", 0.01, 100.00),\n",
    "        \"grow_policy\": \"Lossguide\",\n",
    "        \"auto_class_weights\": \"Balanced\",\n",
    "        \"od_type\": trial.suggest_categorical(\"od_type\", [\"IncToDec\", \"Iter\"]),\n",
    "        \"od_wait\": trial.suggest_int(\"od_wait\", 10, 50),\n",
    "    }\n",
    "\n",
    "    for train_idx, val_idx in skf.split(train_df, greeks_df.iloc[:, 1:-1]):\n",
    "        X_train, y_train = (\n",
    "            train_df.loc[train_idx, feature_cols],\n",
    "            train_df.loc[train_idx, \"Class\"],\n",
    "        )\n",
    "\n",
    "        X_val, y_val = (\n",
    "            train_df.loc[val_idx, feature_cols],\n",
    "            train_df.loc[val_idx, \"Class\"],\n",
    "        )\n",
    "\n",
    "        model = cb.CatBoostClassifier(**params)\n",
    "        model.fit(\n",
    "            X_train,\n",
    "            y_train,\n",
    "            eval_set=[(X_val, y_val)],\n",
    "            cat_features=[\"EJ\"],\n",
    "            verbose=0,\n",
    "        )\n",
    "\n",
    "        preds = model.predict_proba(X_val)[:, 1]\n",
    "        oof[val_idx] = preds\n",
    "\n",
    "    return balanced_log_loss(train_df[\"Class\"], oof)\n"
   ]
  },
  {
   "cell_type": "code",
   "execution_count": null,
   "metadata": {},
   "outputs": [],
   "source": [
    "study = optuna.create_study(direction=\"minimize\")\n",
    "study.optimize(objective, n_trials=3)\n",
    "\n",
    "print(\"Number of finished trials: \", len(study.trials))\n",
    "print(\"Best trial:\")\n",
    "trial = study.best_trial\n",
    "\n",
    "print(\"  Value: {}\".format(trial.value))\n",
    "print(\"  Params: \")\n",
    "for key, value in trial.params.items():\n",
    "    print(\"    {}: {}\".format(key, value))"
   ]
  }
 ],
 "metadata": {
  "kernelspec": {
   "display_name": "base",
   "language": "python",
   "name": "python3"
  },
  "language_info": {
   "codemirror_mode": {
    "name": "ipython",
    "version": 3
   },
   "file_extension": ".py",
   "mimetype": "text/x-python",
   "name": "python",
   "nbconvert_exporter": "python",
   "pygments_lexer": "ipython3",
   "version": "3.10.9"
  },
  "orig_nbformat": 4
 },
 "nbformat": 4,
 "nbformat_minor": 2
}
