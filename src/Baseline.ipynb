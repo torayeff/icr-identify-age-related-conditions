{
 "cells": [
  {
   "cell_type": "code",
   "execution_count": 1,
   "metadata": {},
   "outputs": [],
   "source": [
    "from pathlib import Path\n",
    "\n",
    "import catboost as cb\n",
    "import numpy as np\n",
    "import pandas as pd\n",
    "from iterstrat.ml_stratifiers import MultilabelStratifiedKFold"
   ]
  },
  {
   "cell_type": "code",
   "execution_count": 2,
   "metadata": {},
   "outputs": [],
   "source": [
    "data_path = Path(\"../data/\")\n",
    "seed = 42"
   ]
  },
  {
   "cell_type": "code",
   "execution_count": 3,
   "metadata": {},
   "outputs": [],
   "source": [
    "def balanced_log_loss(y_true, y_pred):\n",
    "    y_pred = np.clip(y_pred, 1e-15, 1 - 1e-15)\n",
    "\n",
    "    n0, n1 = np.bincount(y_true.astype(int))\n",
    "    w0 = 1 / (n0 / len(y_true))\n",
    "    w1 = 1 / (n1 / len(y_true))\n",
    "\n",
    "    l0 = -w0 / n0 * np.sum(np.where(y_true == 0, 1, 0) * np.log(1 - y_pred))\n",
    "    l1 = -w1 / n1 * np.sum(np.where(y_true != 0, 1, 0) * np.log(y_pred))\n",
    "\n",
    "    return (l0 + l1) / (w0 + w1)\n"
   ]
  },
  {
   "cell_type": "code",
   "execution_count": 4,
   "metadata": {},
   "outputs": [],
   "source": [
    "# read data\n",
    "train_df = pd.read_csv(data_path / \"train.csv\")\n",
    "test_df = pd.read_csv(data_path / \"test.csv\")\n",
    "greeks_df = pd.read_csv(data_path / \"greeks.csv\")"
   ]
  },
  {
   "cell_type": "code",
   "execution_count": 5,
   "metadata": {},
   "outputs": [],
   "source": [
    "# some columns have trailing spaces\n",
    "train_df.columns = train_df.columns.str.strip()\n",
    "test_df.columns = test_df.columns.str.strip()\n",
    "feature_cols = train_df.columns.tolist()[1:-1]"
   ]
  },
  {
   "cell_type": "code",
   "execution_count": 6,
   "metadata": {},
   "outputs": [],
   "source": [
    "# training\n",
    "oof = np.zeros(len(train_df))\n",
    "skf = MultilabelStratifiedKFold(n_splits=5, shuffle=True, random_state=seed)\n",
    "test_probs = []"
   ]
  },
  {
   "cell_type": "code",
   "execution_count": 7,
   "metadata": {},
   "outputs": [
    {
     "name": "stdout",
     "output_type": "stream",
     "text": [
      "----------------------------------------------------Fold-1----------------------------------------------------\n",
      "Learning rate set to 0.009778\n",
      "0:\tlearn: 0.6828959\ttest: 0.6845793\tbest: 0.6845793 (0)\ttotal: 60.9ms\tremaining: 10m 9s\n",
      "1000:\tlearn: 0.0064560\ttest: 0.4702148\tbest: 0.4031063 (214)\ttotal: 4.81s\tremaining: 43.3s\n",
      "2000:\tlearn: 0.0031846\ttest: 0.5135422\tbest: 0.4031063 (214)\ttotal: 9.73s\tremaining: 38.9s\n",
      "Stopped by overfitting detector  (2000 iterations wait)\n",
      "\n",
      "bestTest = 0.403106261\n",
      "bestIteration = 214\n",
      "\n",
      "Shrink model to first 215 iterations.\n",
      "----------------------------------------------------Fold-2----------------------------------------------------\n",
      "Learning rate set to 0.009778\n",
      "0:\tlearn: 0.6827324\ttest: 0.6832329\tbest: 0.6832329 (0)\ttotal: 3.99ms\tremaining: 39.9s\n",
      "1000:\tlearn: 0.0077930\ttest: 0.2777746\tbest: 0.2619686 (732)\ttotal: 4.81s\tremaining: 43.2s\n",
      "2000:\tlearn: 0.0039209\ttest: 0.3090608\tbest: 0.2619686 (732)\ttotal: 10.2s\tremaining: 40.6s\n",
      "Stopped by overfitting detector  (2000 iterations wait)\n",
      "\n",
      "bestTest = 0.2619685527\n",
      "bestIteration = 732\n",
      "\n",
      "Shrink model to first 733 iterations.\n",
      "----------------------------------------------------Fold-3----------------------------------------------------\n",
      "Learning rate set to 0.009773\n",
      "0:\tlearn: 0.6845745\ttest: 0.6857381\tbest: 0.6857381 (0)\ttotal: 4.34ms\tremaining: 43.4s\n",
      "1000:\tlearn: 0.0085878\ttest: 0.1794806\tbest: 0.1794806 (1000)\ttotal: 4.67s\tremaining: 42s\n",
      "2000:\tlearn: 0.0040790\ttest: 0.1736968\tbest: 0.1728383 (1697)\ttotal: 9.24s\tremaining: 36.9s\n",
      "3000:\tlearn: 0.0034042\ttest: 0.1745270\tbest: 0.1728383 (1697)\ttotal: 13.3s\tremaining: 31.1s\n",
      "Stopped by overfitting detector  (2000 iterations wait)\n",
      "\n",
      "bestTest = 0.1728383439\n",
      "bestIteration = 1697\n",
      "\n",
      "Shrink model to first 1698 iterations.\n",
      "----------------------------------------------------Fold-4----------------------------------------------------\n",
      "Learning rate set to 0.009778\n",
      "0:\tlearn: 0.6840485\ttest: 0.6846544\tbest: 0.6846544 (0)\ttotal: 3.86ms\tremaining: 38.6s\n",
      "1000:\tlearn: 0.0067015\ttest: 0.2702045\tbest: 0.2542278 (619)\ttotal: 4.68s\tremaining: 42.1s\n",
      "2000:\tlearn: 0.0032152\ttest: 0.2710014\tbest: 0.2542278 (619)\ttotal: 10s\tremaining: 40s\n",
      "Stopped by overfitting detector  (2000 iterations wait)\n",
      "\n",
      "bestTest = 0.2542278374\n",
      "bestIteration = 619\n",
      "\n",
      "Shrink model to first 620 iterations.\n",
      "----------------------------------------------------Fold-5----------------------------------------------------\n",
      "Learning rate set to 0.009773\n",
      "0:\tlearn: 0.6804656\ttest: 0.6867964\tbest: 0.6867964 (0)\ttotal: 4.38ms\tremaining: 43.8s\n",
      "1000:\tlearn: 0.0065858\ttest: 0.3633485\tbest: 0.3185114 (504)\ttotal: 4.67s\tremaining: 42s\n",
      "2000:\tlearn: 0.0033924\ttest: 0.3907790\tbest: 0.3185114 (504)\ttotal: 9.48s\tremaining: 37.9s\n",
      "Stopped by overfitting detector  (2000 iterations wait)\n",
      "\n",
      "bestTest = 0.3185113728\n",
      "bestIteration = 504\n",
      "\n",
      "Shrink model to first 505 iterations.\n",
      "----------------------------------------------OOF score: 0.3952-----------------------------------------------\n"
     ]
    }
   ],
   "source": [
    "fold = 1\n",
    "for train_idx, val_idx in skf.split(train_df, greeks_df.iloc[:, 1:-1]):\n",
    "    \n",
    "    print(f\"Fold-{fold}\".center(110, \"-\"))\n",
    "    fold += 1\n",
    "\n",
    "    X_train, y_train = (\n",
    "        train_df.loc[train_idx, feature_cols],\n",
    "        train_df.loc[train_idx, \"Class\"],\n",
    "    )\n",
    "\n",
    "    X_val, y_val = (\n",
    "        train_df.loc[val_idx, feature_cols],\n",
    "        train_df.loc[val_idx, \"Class\"],\n",
    "    )\n",
    "\n",
    "    params = {\n",
    "        \"iterations\": 10000,\n",
    "        \"early_stopping_rounds\": 1000,\n",
    "        \"use_best_model\": True,\n",
    "        \"auto_class_weights\": \"Balanced\",\n",
    "        \"grow_policy\": \"Lossguide\", #[SymmetricTree, Depthwise, Lossguide]\n",
    "        # \"l2_leaf_reg\": 5, # [0, inf]\n",
    "        # \"random_strength\": 2, # [1, inf)\n",
    "        # \"bagging_temperature\": 1, #[0, inf)\n",
    "        # \"grow_policy\": \"Lossguide\", #[SymmetricTree, Depthwise, Lossguide]\n",
    "        #[Balanced, SqrtBalanced]\n",
    "    }\n",
    "    model = cb.CatBoostClassifier(**params)\n",
    "    model.fit(\n",
    "        X_train, y_train, eval_set=[(X_val, y_val)], cat_features=[\"EJ\"], verbose=1000\n",
    "    )\n",
    "    preds = model.predict_proba(X_val)\n",
    "    oof[val_idx] = model.predict_proba(X_val)[:, 1]\n",
    "    test_probs.append(model.predict_proba(test_df.iloc[:, 1:]))\n",
    "\n",
    "print(f\"OOF score: {balanced_log_loss(train_df['Class'], oof):.4f}\".center(110, \"-\"))\n"
   ]
  },
  {
   "cell_type": "code",
   "execution_count": 8,
   "metadata": {},
   "outputs": [],
   "source": [
    "# generate a submission file\n",
    "test_probs = np.mean(test_probs, axis=0)\n",
    "sub_df = pd.DataFrame(\n",
    "    {\"Id\": test_df.Id, \"Class_0\": test_probs[:, 0], \"Class_1\": test_probs[:, 1]}\n",
    ")\n",
    "sub_df.to_csv(\"submission.csv\", index=False)\n"
   ]
  },
  {
   "cell_type": "code",
   "execution_count": null,
   "metadata": {},
   "outputs": [],
   "source": []
  }
 ],
 "metadata": {
  "kernelspec": {
   "display_name": "base",
   "language": "python",
   "name": "python3"
  },
  "language_info": {
   "codemirror_mode": {
    "name": "ipython",
    "version": 3
   },
   "file_extension": ".py",
   "mimetype": "text/x-python",
   "name": "python",
   "nbconvert_exporter": "python",
   "pygments_lexer": "ipython3",
   "version": "3.10.9"
  },
  "orig_nbformat": 4
 },
 "nbformat": 4,
 "nbformat_minor": 2
}
