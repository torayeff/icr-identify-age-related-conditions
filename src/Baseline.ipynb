{
 "cells": [
  {
   "cell_type": "code",
   "execution_count": 1,
   "metadata": {},
   "outputs": [],
   "source": [
    "from pathlib import Path\n",
    "\n",
    "import catboost as cb\n",
    "import numpy as np\n",
    "import pandas as pd\n",
    "from iterstrat.ml_stratifiers import MultilabelStratifiedKFold"
   ]
  },
  {
   "cell_type": "code",
   "execution_count": 2,
   "metadata": {},
   "outputs": [],
   "source": [
    "data_path = Path(\"../data/\")\n",
    "seed = 42"
   ]
  },
  {
   "cell_type": "code",
   "execution_count": 3,
   "metadata": {},
   "outputs": [],
   "source": [
    "def balanced_log_loss(y_true, y_pred):\n",
    "    y_pred = np.clip(y_pred, 1e-15, 1 - 1e-15)\n",
    "\n",
    "    n0, n1 = np.bincount(y_true.astype(int))\n",
    "    w0 = 1 / (n0 / len(y_true))\n",
    "    w1 = 1 / (n1 / len(y_true))\n",
    "\n",
    "    l0 = -w0 / n0 * np.sum(np.where(y_true == 0, 1, 0) * np.log(1 - y_pred))\n",
    "    l1 = -w1 / n1 * np.sum(np.where(y_true != 0, 1, 0) * np.log(y_pred))\n",
    "\n",
    "    return (l0 + l1) / (w0 + w1)\n",
    "\n",
    "\n",
    "def lgb_metric(y_true, y_pred):\n",
    "    return \"balanced_log_loss\", balanced_log_loss(y_true, y_pred), False"
   ]
  },
  {
   "cell_type": "code",
   "execution_count": 4,
   "metadata": {},
   "outputs": [],
   "source": [
    "# read data\n",
    "train_df = pd.read_csv(data_path / \"train.csv\")\n",
    "test_df = pd.read_csv(data_path / \"test.csv\")\n",
    "greeks_df = pd.read_csv(data_path / \"greeks.csv\")"
   ]
  },
  {
   "cell_type": "code",
   "execution_count": 5,
   "metadata": {},
   "outputs": [],
   "source": [
    "# some columns have trailing spaces\n",
    "train_df.columns = train_df.columns.str.strip()\n",
    "test_df.columns = test_df.columns.str.strip()\n",
    "feature_cols = train_df.columns.tolist()[1:-1]"
   ]
  },
  {
   "cell_type": "code",
   "execution_count": 6,
   "metadata": {},
   "outputs": [],
   "source": [
    "# training\n",
    "oof = np.zeros(len(train_df))\n",
    "skf = MultilabelStratifiedKFold(n_splits=5, shuffle=True, random_state=seed)\n",
    "test_probs = []"
   ]
  },
  {
   "cell_type": "code",
   "execution_count": 7,
   "metadata": {},
   "outputs": [
    {
     "name": "stdout",
     "output_type": "stream",
     "text": [
      "0:\tlearn: 0.6906482\ttest: 0.6912274\tbest: 0.6912274 (0)\ttotal: 63.1ms\tremaining: 10m 31s\n",
      "1000:\tlearn: 0.1061947\ttest: 0.2128374\tbest: 0.2128374 (1000)\ttotal: 3.56s\tremaining: 32s\n",
      "2000:\tlearn: 0.0252801\ttest: 0.1843363\tbest: 0.1838559 (1943)\ttotal: 6.97s\tremaining: 27.9s\n",
      "Stopped by overfitting detector  (1000 iterations wait)\n",
      "\n",
      "bestTest = 0.1838559036\n",
      "bestIteration = 1943\n",
      "\n",
      "Shrink model to first 1944 iterations.\n",
      "0:\tlearn: 0.6908401\ttest: 0.6908988\tbest: 0.6908988 (0)\ttotal: 2.82ms\tremaining: 28.2s\n",
      "1000:\tlearn: 0.1083615\ttest: 0.2026649\tbest: 0.2026576 (999)\ttotal: 3.41s\tremaining: 30.7s\n",
      "2000:\tlearn: 0.0247290\ttest: 0.1568647\tbest: 0.1567780 (1989)\ttotal: 6.81s\tremaining: 27.2s\n",
      "3000:\tlearn: 0.0092830\ttest: 0.1598822\tbest: 0.1564179 (2187)\ttotal: 10.2s\tremaining: 23.7s\n",
      "Stopped by overfitting detector  (1000 iterations wait)\n",
      "\n",
      "bestTest = 0.1564179385\n",
      "bestIteration = 2187\n",
      "\n",
      "Shrink model to first 2188 iterations.\n",
      "0:\tlearn: 0.6906621\ttest: 0.6909199\tbest: 0.6909199 (0)\ttotal: 4.09ms\tremaining: 40.9s\n",
      "1000:\tlearn: 0.1089275\ttest: 0.2286016\tbest: 0.2286016 (1000)\ttotal: 3.25s\tremaining: 29.2s\n",
      "2000:\tlearn: 0.0262448\ttest: 0.1629091\tbest: 0.1627955 (1998)\ttotal: 6.59s\tremaining: 26.4s\n",
      "3000:\tlearn: 0.0100597\ttest: 0.1535121\tbest: 0.1533976 (2989)\ttotal: 9.76s\tremaining: 22.8s\n",
      "4000:\tlearn: 0.0056716\ttest: 0.1514719\tbest: 0.1513573 (3921)\ttotal: 13.2s\tremaining: 19.8s\n",
      "5000:\tlearn: 0.0038258\ttest: 0.1523107\tbest: 0.1513395 (4366)\ttotal: 16.2s\tremaining: 16.2s\n",
      "Stopped by overfitting detector  (1000 iterations wait)\n",
      "\n",
      "bestTest = 0.1513395293\n",
      "bestIteration = 4366\n",
      "\n",
      "Shrink model to first 4367 iterations.\n",
      "0:\tlearn: 0.6911370\ttest: 0.6912754\tbest: 0.6912754 (0)\ttotal: 3.37ms\tremaining: 33.7s\n",
      "1000:\tlearn: 0.1103548\ttest: 0.2018700\tbest: 0.2018700 (1000)\ttotal: 3.35s\tremaining: 30.1s\n",
      "2000:\tlearn: 0.0266835\ttest: 0.1369464\tbest: 0.1369464 (2000)\ttotal: 6.76s\tremaining: 27s\n",
      "3000:\tlearn: 0.0099586\ttest: 0.1248425\tbest: 0.1248022 (2985)\ttotal: 10.3s\tremaining: 24.1s\n",
      "4000:\tlearn: 0.0055144\ttest: 0.1234894\tbest: 0.1233775 (3556)\ttotal: 14.4s\tremaining: 21.6s\n",
      "5000:\tlearn: 0.0036741\ttest: 0.1232329\tbest: 0.1227311 (4269)\ttotal: 18.3s\tremaining: 18.3s\n",
      "Stopped by overfitting detector  (1000 iterations wait)\n",
      "\n",
      "bestTest = 0.1227311066\n",
      "bestIteration = 4269\n",
      "\n",
      "Shrink model to first 4270 iterations.\n",
      "0:\tlearn: 0.6905521\ttest: 0.6909321\tbest: 0.6909321 (0)\ttotal: 3.44ms\tremaining: 34.4s\n",
      "1000:\tlearn: 0.1085999\ttest: 0.2257722\tbest: 0.2257722 (1000)\ttotal: 3.4s\tremaining: 30.6s\n",
      "2000:\tlearn: 0.0253246\ttest: 0.1795264\tbest: 0.1794440 (1998)\ttotal: 6.87s\tremaining: 27.5s\n",
      "3000:\tlearn: 0.0095518\ttest: 0.1869080\tbest: 0.1784451 (2254)\ttotal: 10.2s\tremaining: 23.7s\n",
      "Stopped by overfitting detector  (1000 iterations wait)\n",
      "\n",
      "bestTest = 0.1784451106\n",
      "bestIteration = 2254\n",
      "\n",
      "Shrink model to first 2255 iterations.\n",
      "OOF score: 0.3971\n"
     ]
    }
   ],
   "source": [
    "for train_idx, val_idx in skf.split(train_df, greeks_df.iloc[:, 1:-1]):\n",
    "\n",
    "    X_train, y_train = (\n",
    "        train_df.loc[train_idx, feature_cols],\n",
    "        train_df.loc[train_idx, \"Class\"],\n",
    "    )\n",
    "\n",
    "    X_val, y_val = (\n",
    "        train_df.loc[val_idx, feature_cols],\n",
    "        train_df.loc[val_idx, \"Class\"],\n",
    "    )\n",
    "\n",
    "    params = {\n",
    "        \"iterations\": 10000,\n",
    "        \"learning_rate\": 0.005,\n",
    "        \"early_stopping_rounds\": 1000,\n",
    "        \"auto_class_weights\": \"Balanced\",\n",
    "        \"loss_function\": \"MultiClass\",\n",
    "        \"eval_metric\": \"MultiClass:use_weights=False\",\n",
    "        \"random_seed\": 42,\n",
    "        \"use_best_model\": True,\n",
    "        \"l2_leaf_reg\": 1,\n",
    "        \"max_ctr_complexity\": 15,\n",
    "        \"max_depth\": 10,\n",
    "        \"grow_policy\": \"Lossguide\",\n",
    "        \"max_leaves\": 64,\n",
    "        \"min_data_in_leaf\": 40,\n",
    "    }\n",
    "    model = cb.CatBoostClassifier(**params)\n",
    "    model.fit(\n",
    "        X_train, y_train, eval_set=[(X_val, y_val)], cat_features=[\"EJ\"], verbose=1000\n",
    "    )\n",
    "    preds = model.predict_proba(X_val)\n",
    "    oof[val_idx] = model.predict_proba(X_val)[:, 1]\n",
    "    test_probs.append(model.predict_proba(test_df.iloc[:, 1:]))\n",
    "\n",
    "print(f\"OOF score: {balanced_log_loss(train_df['Class'], oof):.4f}\")\n"
   ]
  },
  {
   "cell_type": "code",
   "execution_count": 8,
   "metadata": {},
   "outputs": [],
   "source": [
    "# generate a submission file\n",
    "test_probs = np.mean(test_probs, axis=0)\n",
    "sub_df = pd.DataFrame(\n",
    "    {\"Id\": test_df.Id, \"Class_0\": test_probs[:, 0], \"Class_1\": test_probs[:, 1]}\n",
    ")\n",
    "sub_df.to_csv(\"submission.csv\", index=False)\n"
   ]
  },
  {
   "cell_type": "code",
   "execution_count": null,
   "metadata": {},
   "outputs": [],
   "source": []
  }
 ],
 "metadata": {
  "kernelspec": {
   "display_name": "base",
   "language": "python",
   "name": "python3"
  },
  "language_info": {
   "codemirror_mode": {
    "name": "ipython",
    "version": 3
   },
   "file_extension": ".py",
   "mimetype": "text/x-python",
   "name": "python",
   "nbconvert_exporter": "python",
   "pygments_lexer": "ipython3",
   "version": "3.10.9"
  },
  "orig_nbformat": 4
 },
 "nbformat": 4,
 "nbformat_minor": 2
}
