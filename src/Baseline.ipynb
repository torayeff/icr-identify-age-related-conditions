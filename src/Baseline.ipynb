{
 "cells": [
  {
   "cell_type": "code",
   "execution_count": 1,
   "metadata": {},
   "outputs": [],
   "source": [
    "from pathlib import Path\n",
    "\n",
    "import catboost as cb\n",
    "import numpy as np\n",
    "import pandas as pd\n",
    "from iterstrat.ml_stratifiers import MultilabelStratifiedKFold"
   ]
  },
  {
   "cell_type": "code",
   "execution_count": 2,
   "metadata": {},
   "outputs": [],
   "source": [
    "data_path = Path(\"../data/\")\n",
    "seed = 42"
   ]
  },
  {
   "cell_type": "code",
   "execution_count": 3,
   "metadata": {},
   "outputs": [],
   "source": [
    "def balanced_log_loss(y_true, y_pred):\n",
    "    y_pred = np.clip(y_pred, 1e-15, 1 - 1e-15)\n",
    "\n",
    "    n0, n1 = np.bincount(y_true.astype(int))\n",
    "    w0 = 1 / (n0 / len(y_true))\n",
    "    w1 = 1 / (n1 / len(y_true))\n",
    "\n",
    "    l0 = -w0 / n0 * np.sum(np.where(y_true == 0, 1, 0) * np.log(1 - y_pred))\n",
    "    l1 = -w1 / n1 * np.sum(np.where(y_true != 0, 1, 0) * np.log(y_pred))\n",
    "\n",
    "    return (l0 + l1) / (w0 + w1)\n"
   ]
  },
  {
   "cell_type": "code",
   "execution_count": 4,
   "metadata": {},
   "outputs": [],
   "source": [
    "# read data\n",
    "train_df = pd.read_csv(data_path / \"train.csv\")\n",
    "test_df = pd.read_csv(data_path / \"test.csv\")\n",
    "greeks_df = pd.read_csv(data_path / \"greeks.csv\")"
   ]
  },
  {
   "cell_type": "code",
   "execution_count": 5,
   "metadata": {},
   "outputs": [],
   "source": [
    "# some columns have trailing spaces\n",
    "train_df.columns = train_df.columns.str.strip()\n",
    "test_df.columns = test_df.columns.str.strip()\n",
    "feature_cols = train_df.columns.tolist()[1:-1]"
   ]
  },
  {
   "cell_type": "code",
   "execution_count": 6,
   "metadata": {},
   "outputs": [],
   "source": [
    "# training\n",
    "oof = np.zeros(len(train_df))\n",
    "skf = MultilabelStratifiedKFold(n_splits=5, shuffle=True, random_state=seed)\n",
    "test_probs = []"
   ]
  },
  {
   "cell_type": "code",
   "execution_count": 7,
   "metadata": {},
   "outputs": [
    {
     "name": "stdout",
     "output_type": "stream",
     "text": [
      "----------------------------------------------------Fold-1----------------------------------------------------\n",
      "0:\tlearn: 0.6907571\ttest: 0.6915745\tbest: 0.6915745 (0)\ttotal: 60.1ms\tremaining: 10m 1s\n",
      "1000:\tlearn: 0.1488318\ttest: 0.3976301\tbest: 0.3976120 (991)\ttotal: 4.76s\tremaining: 42.8s\n",
      "2000:\tlearn: 0.0576062\ttest: 0.4071771\tbest: 0.3930983 (1362)\ttotal: 9.46s\tremaining: 37.8s\n",
      "Stopped by overfitting detector  (1000 iterations wait)\n",
      "\n",
      "bestTest = 0.3930983075\n",
      "bestIteration = 1362\n",
      "\n",
      "Shrink model to first 1363 iterations.\n",
      "----------------------------------------------------Fold-2----------------------------------------------------\n",
      "0:\tlearn: 0.6911850\ttest: 0.6917433\tbest: 0.6917433 (0)\ttotal: 3.93ms\tremaining: 39.3s\n",
      "1000:\tlearn: 0.1618796\ttest: 0.3120733\tbest: 0.3120733 (1000)\ttotal: 4.62s\tremaining: 41.6s\n",
      "2000:\tlearn: 0.0639922\ttest: 0.2568124\tbest: 0.2568124 (2000)\ttotal: 9.61s\tremaining: 38.4s\n",
      "3000:\tlearn: 0.0201979\ttest: 0.2434941\tbest: 0.2416566 (2781)\ttotal: 14.3s\tremaining: 33.5s\n",
      "Stopped by overfitting detector  (1000 iterations wait)\n",
      "\n",
      "bestTest = 0.2416565845\n",
      "bestIteration = 2781\n",
      "\n",
      "Shrink model to first 2782 iterations.\n",
      "----------------------------------------------------Fold-3----------------------------------------------------\n",
      "0:\tlearn: 0.6912998\ttest: 0.6921686\tbest: 0.6921686 (0)\ttotal: 4.39ms\tremaining: 43.9s\n",
      "1000:\tlearn: 0.1556578\ttest: 0.3012247\tbest: 0.3012247 (1000)\ttotal: 4.61s\tremaining: 41.4s\n",
      "2000:\tlearn: 0.0605540\ttest: 0.2305085\tbest: 0.2304462 (1996)\ttotal: 9.28s\tremaining: 37.1s\n",
      "3000:\tlearn: 0.0206643\ttest: 0.1878622\tbest: 0.1878622 (3000)\ttotal: 13.9s\tremaining: 32.5s\n",
      "4000:\tlearn: 0.0131332\ttest: 0.1770669\tbest: 0.1769803 (3995)\ttotal: 18.8s\tremaining: 28.2s\n",
      "5000:\tlearn: 0.0098396\ttest: 0.1700225\tbest: 0.1700218 (4999)\ttotal: 23.9s\tremaining: 23.9s\n",
      "6000:\tlearn: 0.0078712\ttest: 0.1670380\tbest: 0.1669320 (5954)\ttotal: 29.4s\tremaining: 19.6s\n",
      "7000:\tlearn: 0.0064526\ttest: 0.1656547\tbest: 0.1654678 (6947)\ttotal: 34.8s\tremaining: 14.9s\n",
      "8000:\tlearn: 0.0054389\ttest: 0.1642703\tbest: 0.1642638 (7995)\ttotal: 39.8s\tremaining: 9.94s\n",
      "9000:\tlearn: 0.0049650\ttest: 0.1633930\tbest: 0.1633851 (8996)\ttotal: 43.9s\tremaining: 4.87s\n",
      "9999:\tlearn: 0.0046317\ttest: 0.1635960\tbest: 0.1633438 (9059)\ttotal: 48s\tremaining: 0us\n",
      "\n",
      "bestTest = 0.1633437721\n",
      "bestIteration = 9059\n",
      "\n",
      "Shrink model to first 9060 iterations.\n",
      "----------------------------------------------------Fold-4----------------------------------------------------\n",
      "0:\tlearn: 0.6910532\ttest: 0.6911269\tbest: 0.6911269 (0)\ttotal: 4.29ms\tremaining: 42.9s\n",
      "1000:\tlearn: 0.1576563\ttest: 0.3121957\tbest: 0.3121957 (1000)\ttotal: 4.59s\tremaining: 41.3s\n",
      "2000:\tlearn: 0.0629552\ttest: 0.2660299\tbest: 0.2659723 (1999)\ttotal: 9.25s\tremaining: 37s\n",
      "3000:\tlearn: 0.0193224\ttest: 0.2564500\tbest: 0.2554590 (2958)\ttotal: 14s\tremaining: 32.5s\n",
      "4000:\tlearn: 0.0099824\ttest: 0.2516421\tbest: 0.2515781 (3998)\ttotal: 18.5s\tremaining: 27.7s\n",
      "5000:\tlearn: 0.0068656\ttest: 0.2443110\tbest: 0.2442458 (4974)\ttotal: 23.3s\tremaining: 23.3s\n",
      "6000:\tlearn: 0.0052183\ttest: 0.2483648\tbest: 0.2440062 (5080)\ttotal: 28.8s\tremaining: 19.2s\n",
      "Stopped by overfitting detector  (1000 iterations wait)\n",
      "\n",
      "bestTest = 0.2440061515\n",
      "bestIteration = 5080\n",
      "\n",
      "Shrink model to first 5081 iterations.\n",
      "----------------------------------------------------Fold-5----------------------------------------------------\n",
      "0:\tlearn: 0.6910016\ttest: 0.6914145\tbest: 0.6914145 (0)\ttotal: 3.99ms\tremaining: 39.9s\n",
      "1000:\tlearn: 0.1546420\ttest: 0.3391116\tbest: 0.3391116 (1000)\ttotal: 4.66s\tremaining: 41.9s\n",
      "2000:\tlearn: 0.0586903\ttest: 0.3073618\tbest: 0.3070956 (1960)\ttotal: 9.26s\tremaining: 37s\n",
      "3000:\tlearn: 0.0168960\ttest: 0.3180718\tbest: 0.3024776 (2281)\ttotal: 14.2s\tremaining: 33.2s\n",
      "Stopped by overfitting detector  (1000 iterations wait)\n",
      "\n",
      "bestTest = 0.3024775992\n",
      "bestIteration = 2281\n",
      "\n",
      "Shrink model to first 2282 iterations.\n",
      "----------------------------------------------OOF score: 0.3756-----------------------------------------------\n"
     ]
    }
   ],
   "source": [
    "fold = 1\n",
    "for train_idx, val_idx in skf.split(train_df, greeks_df.iloc[:, 1:-1]):\n",
    "\n",
    "    print(f\"Fold-{fold}\".center(110, \"-\"))\n",
    "    fold += 1\n",
    "\n",
    "    X_train, y_train = (\n",
    "        train_df.loc[train_idx, feature_cols],\n",
    "        train_df.loc[train_idx, \"Class\"],\n",
    "    )\n",
    "\n",
    "    X_val, y_val = (\n",
    "        train_df.loc[val_idx, feature_cols],\n",
    "        train_df.loc[val_idx, \"Class\"],\n",
    "    )\n",
    "\n",
    "    params = {\n",
    "        \"iterations\": 10000,\n",
    "        \"early_stopping_rounds\": 1000,\n",
    "        \"use_best_model\": True,\n",
    "        \"learning_rate\": 0.003,\n",
    "        \"l2_leaf_reg\": 5,\n",
    "        \"random_strength\": 2,\n",
    "        \"bagging_temperature\": 1,\n",
    "        \"grow_policy\": \"Lossguide\",\n",
    "        \"auto_class_weights\": \"Balanced\",\n",
    "    }\n",
    "\n",
    "    model = cb.CatBoostClassifier(**params)\n",
    "    model.fit(\n",
    "        X_train, y_train, eval_set=[(X_val, y_val)], cat_features=[\"EJ\"], verbose=1000\n",
    "    )\n",
    "\n",
    "    preds = model.predict_proba(X_val)[:, 1]\n",
    "    oof[val_idx] = preds\n",
    "\n",
    "    # make test predictions\n",
    "    test_preds = model.predict_proba(test_df.iloc[:, 1:])\n",
    "    test_probs.append(test_preds)\n",
    "\n",
    "print(f\"OOF score: {balanced_log_loss(train_df['Class'], oof):.4f}\".center(110, \"-\"))\n"
   ]
  },
  {
   "cell_type": "code",
   "execution_count": 8,
   "metadata": {},
   "outputs": [],
   "source": [
    "# generate a submission file\n",
    "test_probs = np.mean(test_probs, axis=0)\n",
    "sub_df = pd.DataFrame(\n",
    "    {\"Id\": test_df.Id, \"Class_0\": test_probs[:, 0], \"Class_1\": test_probs[:, 1]}\n",
    ")\n",
    "sub_df.to_csv(\"submission.csv\", index=False)\n"
   ]
  }
 ],
 "metadata": {
  "kernelspec": {
   "display_name": "base",
   "language": "python",
   "name": "python3"
  },
  "language_info": {
   "codemirror_mode": {
    "name": "ipython",
    "version": 3
   },
   "file_extension": ".py",
   "mimetype": "text/x-python",
   "name": "python",
   "nbconvert_exporter": "python",
   "pygments_lexer": "ipython3",
   "version": "3.10.9"
  },
  "orig_nbformat": 4
 },
 "nbformat": 4,
 "nbformat_minor": 2
}
