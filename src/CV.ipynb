{
 "cells": [
  {
   "cell_type": "code",
   "execution_count": 1,
   "metadata": {},
   "outputs": [],
   "source": [
    "from pathlib import Path\n",
    "\n",
    "import catboost as cb\n",
    "import numpy as np\n",
    "import pandas as pd\n",
    "from sklearn.model_selection import StratifiedKFold\n",
    "from sklearn.model_selection import train_test_split\n",
    "from imblearn.over_sampling import RandomOverSampler, SMOTENC\n",
    "from imblearn.under_sampling import RandomUnderSampler"
   ]
  },
  {
   "cell_type": "code",
   "execution_count": 2,
   "metadata": {},
   "outputs": [],
   "source": [
    "data_path = Path(\"../data/\")\n",
    "seed = 19"
   ]
  },
  {
   "cell_type": "code",
   "execution_count": 3,
   "metadata": {},
   "outputs": [],
   "source": [
    "def balanced_log_loss(y_true, y_pred):\n",
    "    y_pred = np.clip(y_pred, 1e-15, 1 - 1e-15)\n",
    "\n",
    "    n0, n1 = np.bincount(y_true.astype(int))\n",
    "    w0 = 1 / (n0 / len(y_true))\n",
    "    w1 = 1 / (n1 / len(y_true))\n",
    "\n",
    "    l0 = -w0 / n0 * np.sum(np.where(y_true == 0, 1, 0) * np.log(1 - y_pred))\n",
    "    l1 = -w1 / n1 * np.sum(np.where(y_true != 0, 1, 0) * np.log(y_pred))\n",
    "\n",
    "    return (l0 + l1) / (w0 + w1)\n"
   ]
  },
  {
   "cell_type": "code",
   "execution_count": 4,
   "metadata": {},
   "outputs": [],
   "source": [
    "# read data\n",
    "train_df = pd.read_csv(data_path / \"train.csv\")\n",
    "test_df = pd.read_csv(data_path / \"test.csv\")\n",
    "greeks_df = pd.read_csv(data_path / \"greeks.csv\")"
   ]
  },
  {
   "cell_type": "code",
   "execution_count": 5,
   "metadata": {},
   "outputs": [],
   "source": [
    "# some columns have trailing spaces\n",
    "train_df.columns = train_df.columns.str.strip()\n",
    "test_df.columns = test_df.columns.str.strip()\n",
    "feature_cols = train_df.columns.tolist()[1:-1]"
   ]
  },
  {
   "cell_type": "code",
   "execution_count": 6,
   "metadata": {},
   "outputs": [],
   "source": [
    "train_df, val_df = train_test_split(\n",
    "    train_df, test_size=0.2, stratify=train_df[\"Class\"], random_state=42\n",
    ")\n",
    "greeks_df = greeks_df.loc[train_df.index]\n",
    "\n",
    "train_df = train_df.reset_index(drop=True)\n",
    "greeks_df = greeks_df.reset_index(drop=True)"
   ]
  },
  {
   "cell_type": "code",
   "execution_count": 7,
   "metadata": {},
   "outputs": [],
   "source": [
    "train_df.drop(columns=[\"Id\"], inplace=True)"
   ]
  },
  {
   "cell_type": "code",
   "execution_count": 8,
   "metadata": {},
   "outputs": [],
   "source": [
    "# Undersample\n",
    "under_sampler = RandomUnderSampler(random_state=seed)\n",
    "train_df, _ = under_sampler.fit_resample(train_df, train_df[\"Class\"])"
   ]
  },
  {
   "cell_type": "code",
   "execution_count": 9,
   "metadata": {},
   "outputs": [],
   "source": [
    "# training\n",
    "oof = np.zeros(len(train_df))\n",
    "skf = StratifiedKFold(n_splits=5, shuffle=True, random_state=seed)\n",
    "test_probs = []\n",
    "val_preds = []"
   ]
  },
  {
   "cell_type": "code",
   "execution_count": 10,
   "metadata": {},
   "outputs": [
    {
     "name": "stdout",
     "output_type": "stream",
     "text": [
      "----------------------------------------------------Fold-1----------------------------------------------------\n",
      "Learning rate set to 0.007123\n",
      "0:\tlearn: 0.6885040\ttest: 0.6915520\tbest: 0.6915520 (0)\ttotal: 58.6ms\tremaining: 9m 46s\n",
      "1000:\tlearn: 0.0226422\ttest: 0.2866337\tbest: 0.2866337 (1000)\ttotal: 1.21s\tremaining: 10.9s\n",
      "2000:\tlearn: 0.0063346\ttest: 0.2745402\tbest: 0.2724462 (1768)\ttotal: 2.49s\tremaining: 9.94s\n",
      "Stopped by overfitting detector  (1000 iterations wait)\n",
      "\n",
      "bestTest = 0.2724462478\n",
      "bestIteration = 1768\n",
      "\n",
      "Shrink model to first 1769 iterations.\n",
      "----------------------------------------------------Fold-2----------------------------------------------------\n",
      "Learning rate set to 0.007123\n",
      "0:\tlearn: 0.6885600\ttest: 0.6919542\tbest: 0.6919542 (0)\ttotal: 2ms\tremaining: 20s\n",
      "1000:\tlearn: 0.0259157\ttest: 0.2171799\tbest: 0.2171799 (1000)\ttotal: 1.13s\tremaining: 10.2s\n",
      "2000:\tlearn: 0.0071971\ttest: 0.1944170\tbest: 0.1941790 (1969)\ttotal: 2.28s\tremaining: 9.11s\n",
      "3000:\tlearn: 0.0039837\ttest: 0.1928680\tbest: 0.1928219 (2997)\ttotal: 3.47s\tremaining: 8.09s\n",
      "4000:\tlearn: 0.0027070\ttest: 0.1943567\tbest: 0.1928014 (3064)\ttotal: 4.64s\tremaining: 6.95s\n",
      "Stopped by overfitting detector  (1000 iterations wait)\n",
      "\n",
      "bestTest = 0.1928014021\n",
      "bestIteration = 3064\n",
      "\n",
      "Shrink model to first 3065 iterations.\n",
      "----------------------------------------------------Fold-3----------------------------------------------------\n",
      "Learning rate set to 0.007136\n",
      "0:\tlearn: 0.6886229\ttest: 0.6911505\tbest: 0.6911505 (0)\ttotal: 1.87ms\tremaining: 18.7s\n",
      "1000:\tlearn: 0.0256112\ttest: 0.2032072\tbest: 0.2030510 (998)\ttotal: 1.15s\tremaining: 10.3s\n",
      "2000:\tlearn: 0.0070794\ttest: 0.1915132\tbest: 0.1891430 (1673)\ttotal: 2.31s\tremaining: 9.23s\n",
      "Stopped by overfitting detector  (1000 iterations wait)\n",
      "\n",
      "bestTest = 0.1891430065\n",
      "bestIteration = 1673\n",
      "\n",
      "Shrink model to first 1674 iterations.\n",
      "----------------------------------------------------Fold-4----------------------------------------------------\n",
      "Learning rate set to 0.007136\n",
      "0:\tlearn: 0.6882300\ttest: 0.6913953\tbest: 0.6913953 (0)\ttotal: 1.21ms\tremaining: 12.1s\n",
      "1000:\tlearn: 0.0225071\ttest: 0.3525870\tbest: 0.3490446 (950)\ttotal: 1.13s\tremaining: 10.2s\n",
      "Stopped by overfitting detector  (1000 iterations wait)\n",
      "\n",
      "bestTest = 0.349044635\n",
      "bestIteration = 950\n",
      "\n",
      "Shrink model to first 951 iterations.\n",
      "----------------------------------------------------Fold-5----------------------------------------------------\n",
      "Learning rate set to 0.007136\n",
      "0:\tlearn: 0.6893695\ttest: 0.6912636\tbest: 0.6912636 (0)\ttotal: 1.24ms\tremaining: 12.4s\n",
      "1000:\tlearn: 0.0239860\ttest: 0.2884446\tbest: 0.2877708 (967)\ttotal: 1.14s\tremaining: 10.2s\n",
      "2000:\tlearn: 0.0070938\ttest: 0.2819361\tbest: 0.2803378 (1601)\ttotal: 2.31s\tremaining: 9.23s\n",
      "Stopped by overfitting detector  (1000 iterations wait)\n",
      "\n",
      "bestTest = 0.2803377756\n",
      "bestIteration = 1601\n",
      "\n",
      "Shrink model to first 1602 iterations.\n",
      "--------------------------------------------------------------------------------------------------------------\n",
      "OOF score: 0.2565\n",
      "CV score: 0.2479\n"
     ]
    }
   ],
   "source": [
    "fold = 1\n",
    "for train_idx, val_idx in skf.split(train_df, train_df[\"Class\"]):\n",
    "    print(f\"Fold-{fold}\".center(110, \"-\"))\n",
    "    fold += 1\n",
    "\n",
    "    X_train, y_train = (\n",
    "        train_df.loc[train_idx, feature_cols],\n",
    "        train_df.loc[train_idx, \"Class\"],\n",
    "    )\n",
    "\n",
    "    X_val, y_val = (\n",
    "        train_df.loc[val_idx, feature_cols],\n",
    "        train_df.loc[val_idx, \"Class\"],\n",
    "    )\n",
    "\n",
    "    params = {\n",
    "        \"iterations\": 10000,\n",
    "        \"early_stopping_rounds\": 1000,\n",
    "        \"use_best_model\": True,\n",
    "        \"random_seed\": seed,\n",
    "    }\n",
    "\n",
    "    model = cb.CatBoostClassifier(**params)\n",
    "    model.fit(\n",
    "        X_train, y_train, eval_set=[(X_val, y_val)], cat_features=[\"EJ\"], verbose=1000\n",
    "    )\n",
    "\n",
    "    # make oof preds\n",
    "    oof[val_idx] = model.predict_proba(X_val)[:, 1]\n",
    "\n",
    "    # make val preds\n",
    "    val_preds.append(model.predict_proba(val_df[feature_cols])[:, 1])\n",
    "\n",
    "    # make test predictions\n",
    "    test_preds = model.predict_proba(test_df.iloc[:, 1:])\n",
    "    test_probs.append(test_preds)\n",
    "\n",
    "print(\"-\" * 110)\n",
    "print(f\"OOF score: {balanced_log_loss(train_df['Class'], oof):.4f}\")\n",
    "print(f\"CV score: {balanced_log_loss(val_df['Class'], np.mean(val_preds, axis=0)):.4f}\")\n"
   ]
  },
  {
   "cell_type": "code",
   "execution_count": 11,
   "metadata": {},
   "outputs": [],
   "source": [
    "# generate a submission file\n",
    "test_probs = np.mean(test_probs, axis=0)\n",
    "sub_df = pd.DataFrame(\n",
    "    {\"Id\": test_df.Id, \"Class_0\": test_probs[:, 0], \"Class_1\": test_probs[:, 1]}\n",
    ")\n",
    "sub_df.to_csv(\"submission.csv\", index=False)"
   ]
  }
 ],
 "metadata": {
  "kernelspec": {
   "display_name": "base",
   "language": "python",
   "name": "python3"
  },
  "language_info": {
   "codemirror_mode": {
    "name": "ipython",
    "version": 3
   },
   "file_extension": ".py",
   "mimetype": "text/x-python",
   "name": "python",
   "nbconvert_exporter": "python",
   "pygments_lexer": "ipython3",
   "version": "3.10.9"
  },
  "orig_nbformat": 4
 },
 "nbformat": 4,
 "nbformat_minor": 2
}
