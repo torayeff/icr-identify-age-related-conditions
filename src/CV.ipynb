{
 "cells": [
  {
   "cell_type": "code",
   "execution_count": 1,
   "metadata": {},
   "outputs": [],
   "source": [
    "from pathlib import Path\n",
    "\n",
    "import catboost as cb\n",
    "import numpy as np\n",
    "import pandas as pd\n",
    "from sklearn.model_selection import StratifiedKFold\n",
    "from sklearn.model_selection import train_test_split\n",
    "from imblearn.over_sampling import RandomOverSampler, SMOTENC\n",
    "from imblearn.under_sampling import RandomUnderSampler"
   ]
  },
  {
   "cell_type": "code",
   "execution_count": 2,
   "metadata": {},
   "outputs": [],
   "source": [
    "data_path = Path(\"../data/\")\n",
    "seed = 42"
   ]
  },
  {
   "cell_type": "code",
   "execution_count": 3,
   "metadata": {},
   "outputs": [],
   "source": [
    "def balanced_log_loss(y_true, y_pred):\n",
    "    y_pred = np.clip(y_pred, 1e-15, 1 - 1e-15)\n",
    "\n",
    "    n0, n1 = np.bincount(y_true.astype(int))\n",
    "    w0 = 1 / (n0 / len(y_true))\n",
    "    w1 = 1 / (n1 / len(y_true))\n",
    "\n",
    "    l0 = -w0 / n0 * np.sum(np.where(y_true == 0, 1, 0) * np.log(1 - y_pred))\n",
    "    l1 = -w1 / n1 * np.sum(np.where(y_true != 0, 1, 0) * np.log(y_pred))\n",
    "\n",
    "    return (l0 + l1) / (w0 + w1)\n"
   ]
  },
  {
   "cell_type": "code",
   "execution_count": 4,
   "metadata": {},
   "outputs": [],
   "source": [
    "# read data\n",
    "train_df = pd.read_csv(data_path / \"train.csv\")\n",
    "test_df = pd.read_csv(data_path / \"test.csv\")\n",
    "greeks_df = pd.read_csv(data_path / \"greeks.csv\")"
   ]
  },
  {
   "cell_type": "code",
   "execution_count": 5,
   "metadata": {},
   "outputs": [],
   "source": [
    "# some columns have trailing spaces\n",
    "train_df.columns = train_df.columns.str.strip()\n",
    "test_df.columns = test_df.columns.str.strip()\n",
    "feature_cols = train_df.columns.tolist()[1:-1]"
   ]
  },
  {
   "cell_type": "code",
   "execution_count": 6,
   "metadata": {},
   "outputs": [],
   "source": [
    "train_df, val_df = train_test_split(\n",
    "    train_df, test_size=0.2, stratify=train_df[\"Class\"], random_state=42\n",
    ")\n",
    "greeks_df = greeks_df.loc[train_df.index]\n",
    "\n",
    "train_df = train_df.reset_index(drop=True)\n",
    "greeks_df = greeks_df.reset_index(drop=True)"
   ]
  },
  {
   "cell_type": "code",
   "execution_count": 7,
   "metadata": {},
   "outputs": [],
   "source": [
    "train_df.drop(columns=[\"Id\"], inplace=True)"
   ]
  },
  {
   "cell_type": "code",
   "execution_count": 8,
   "metadata": {},
   "outputs": [],
   "source": [
    "# Oversample\n",
    "# over_sampler = RandomOverSampler(random_state=seed)\n",
    "# train_df.fillna(train_df.mean(), numeric_only=True, inplace=True)\n",
    "# over_sampler = SMOTENC(\n",
    "#     categorical_features=[train_df.columns.tolist().index(\"EJ\")], random_state=seed\n",
    "# )\n",
    "# train_df, _ = over_sampler.fit_resample(train_df, train_df[\"Class\"])\n",
    "under_sampler = RandomUnderSampler(random_state=seed)\n",
    "train_df, _ = under_sampler.fit_resample(train_df, train_df[\"Class\"])"
   ]
  },
  {
   "cell_type": "code",
   "execution_count": 9,
   "metadata": {},
   "outputs": [],
   "source": [
    "# training\n",
    "oof = np.zeros(len(train_df))\n",
    "skf = StratifiedKFold(n_splits=5, shuffle=True, random_state=seed)\n",
    "test_probs = []\n",
    "val_preds = []"
   ]
  },
  {
   "cell_type": "code",
   "execution_count": 10,
   "metadata": {},
   "outputs": [
    {
     "name": "stdout",
     "output_type": "stream",
     "text": [
      "----------------------------------------------------Fold-1----------------------------------------------------\n",
      "Learning rate set to 0.007123\n",
      "0:\tlearn: 0.6866049\ttest: 0.6908571\tbest: 0.6908571 (0)\ttotal: 56.3ms\tremaining: 9m 22s\n",
      "1000:\tlearn: 0.0217943\ttest: 0.4727316\tbest: 0.4518241 (440)\ttotal: 1.27s\tremaining: 11.4s\n",
      "Stopped by overfitting detector  (1000 iterations wait)\n",
      "\n",
      "bestTest = 0.4518240599\n",
      "bestIteration = 440\n",
      "\n",
      "Shrink model to first 441 iterations.\n",
      "----------------------------------------------------Fold-2----------------------------------------------------\n",
      "Learning rate set to 0.007123\n",
      "0:\tlearn: 0.6892464\ttest: 0.6911358\tbest: 0.6911358 (0)\ttotal: 4.96ms\tremaining: 49.6s\n",
      "1000:\tlearn: 0.0268274\ttest: 0.2215296\tbest: 0.2213219 (991)\ttotal: 1.17s\tremaining: 10.5s\n",
      "2000:\tlearn: 0.0073979\ttest: 0.2243687\tbest: 0.2119683 (1370)\ttotal: 2.36s\tremaining: 9.43s\n",
      "Stopped by overfitting detector  (1000 iterations wait)\n",
      "\n",
      "bestTest = 0.2119682551\n",
      "bestIteration = 1370\n",
      "\n",
      "Shrink model to first 1371 iterations.\n",
      "----------------------------------------------------Fold-3----------------------------------------------------\n",
      "Learning rate set to 0.007136\n",
      "0:\tlearn: 0.6872110\ttest: 0.6895668\tbest: 0.6895668 (0)\ttotal: 2.25ms\tremaining: 22.5s\n",
      "1000:\tlearn: 0.0240396\ttest: 0.3049204\tbest: 0.3044714 (986)\ttotal: 1.15s\tremaining: 10.3s\n",
      "2000:\tlearn: 0.0064882\ttest: 0.3218752\tbest: 0.3018785 (1155)\ttotal: 2.3s\tremaining: 9.2s\n",
      "Stopped by overfitting detector  (1000 iterations wait)\n",
      "\n",
      "bestTest = 0.3018785109\n",
      "bestIteration = 1155\n",
      "\n",
      "Shrink model to first 1156 iterations.\n",
      "----------------------------------------------------Fold-4----------------------------------------------------\n",
      "Learning rate set to 0.007136\n",
      "0:\tlearn: 0.6895743\ttest: 0.6907566\tbest: 0.6907566 (0)\ttotal: 1.16ms\tremaining: 11.6s\n",
      "1000:\tlearn: 0.0253572\ttest: 0.2367619\tbest: 0.2366748 (999)\ttotal: 1.14s\tremaining: 10.3s\n",
      "2000:\tlearn: 0.0071681\ttest: 0.2137077\tbest: 0.2133626 (1902)\ttotal: 2.31s\tremaining: 9.24s\n",
      "3000:\tlearn: 0.0039739\ttest: 0.2122416\tbest: 0.2118097 (2719)\ttotal: 3.46s\tremaining: 8.08s\n",
      "Stopped by overfitting detector  (1000 iterations wait)\n",
      "\n",
      "bestTest = 0.2118096862\n",
      "bestIteration = 2719\n",
      "\n",
      "Shrink model to first 2720 iterations.\n",
      "----------------------------------------------------Fold-5----------------------------------------------------\n",
      "Learning rate set to 0.007136\n",
      "0:\tlearn: 0.6867549\ttest: 0.6883349\tbest: 0.6883349 (0)\ttotal: 1.72ms\tremaining: 17.2s\n",
      "1000:\tlearn: 0.0232892\ttest: 0.4132601\tbest: 0.3838356 (663)\ttotal: 1.13s\tremaining: 10.1s\n",
      "Stopped by overfitting detector  (1000 iterations wait)\n",
      "\n",
      "bestTest = 0.3838355657\n",
      "bestIteration = 663\n",
      "\n",
      "Shrink model to first 664 iterations.\n",
      "--------------------------------------------------------------------------------------------------------------\n",
      "OOF score: 0.3125\n",
      "CV score: 0.2881\n"
     ]
    }
   ],
   "source": [
    "fold = 1\n",
    "for train_idx, val_idx in skf.split(train_df, train_df[\"Class\"]):\n",
    "    print(f\"Fold-{fold}\".center(110, \"-\"))\n",
    "    fold += 1\n",
    "\n",
    "    X_train, y_train = (\n",
    "        train_df.loc[train_idx, feature_cols],\n",
    "        train_df.loc[train_idx, \"Class\"],\n",
    "    )\n",
    "\n",
    "    X_val, y_val = (\n",
    "        train_df.loc[val_idx, feature_cols],\n",
    "        train_df.loc[val_idx, \"Class\"],\n",
    "    )\n",
    "\n",
    "    params = {\n",
    "        \"iterations\": 10000,\n",
    "        \"early_stopping_rounds\": 1000,\n",
    "        # \"auto_class_weights\": \"Balanced\",\n",
    "        # \"scale_pos_weight\": 407/86,\n",
    "        # \"scale_pos_weight\": 10,\n",
    "        \"use_best_model\": True,\n",
    "        \"random_seed\": seed,\n",
    "    }\n",
    "\n",
    "    model = cb.CatBoostClassifier(**params)\n",
    "    model.fit(\n",
    "        X_train, y_train, eval_set=[(X_val, y_val)], cat_features=[\"EJ\"], verbose=1000\n",
    "    )\n",
    "\n",
    "    # make oof preds\n",
    "    oof[val_idx] = model.predict_proba(X_val)[:, 1]\n",
    "\n",
    "    # make val preds\n",
    "    val_preds.append(model.predict_proba(val_df[feature_cols])[:, 1])\n",
    "\n",
    "    # make test predictions\n",
    "    test_preds = model.predict_proba(test_df.iloc[:, 1:])\n",
    "    test_probs.append(test_preds)\n",
    "\n",
    "print(\"-\" * 110)\n",
    "print(f\"OOF score: {balanced_log_loss(train_df['Class'], oof):.4f}\")\n",
    "print(f\"CV score: {balanced_log_loss(val_df['Class'], np.mean(val_preds, axis=0)):.4f}\")\n"
   ]
  },
  {
   "cell_type": "code",
   "execution_count": 11,
   "metadata": {},
   "outputs": [],
   "source": [
    "# Random undersampler\n",
    "# OOF score: 0.3125\n",
    "# CV score: 0.2881\n",
    "\n",
    "# SMOTENC oversampler\n",
    "# OOF score: 0.0754\n",
    "# CV score: 0.4329\n",
    "\n",
    "# Random oversampler\n",
    "# OOF score: 0.0529\n",
    "# CV score: 0.4661\n",
    "\n",
    "# scale_pos_weight = 10\n",
    "# OOF score: 0.2841\n",
    "# CV score: 0.3451\n",
    "\n",
    "# scale_pos_weight = 407/86\n",
    "# OOF score: 0.3579\n",
    "# CV score: 0.4470\n",
    "\n",
    "# auto weight\n",
    "# OOF score: 0.3601\n",
    "# CV score: 0.4517"
   ]
  },
  {
   "cell_type": "code",
   "execution_count": 12,
   "metadata": {},
   "outputs": [],
   "source": [
    "# generate a submission file\n",
    "test_probs = np.mean(test_probs, axis=0)\n",
    "sub_df = pd.DataFrame(\n",
    "    {\"Id\": test_df.Id, \"Class_0\": test_probs[:, 0], \"Class_1\": test_probs[:, 1]}\n",
    ")\n",
    "sub_df.to_csv(\"submission.csv\", index=False)"
   ]
  }
 ],
 "metadata": {
  "kernelspec": {
   "display_name": "base",
   "language": "python",
   "name": "python3"
  },
  "language_info": {
   "codemirror_mode": {
    "name": "ipython",
    "version": 3
   },
   "file_extension": ".py",
   "mimetype": "text/x-python",
   "name": "python",
   "nbconvert_exporter": "python",
   "pygments_lexer": "ipython3",
   "version": "3.10.9"
  },
  "orig_nbformat": 4
 },
 "nbformat": 4,
 "nbformat_minor": 2
}
