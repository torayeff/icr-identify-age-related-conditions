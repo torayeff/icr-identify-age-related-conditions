{
 "cells": [
  {
   "cell_type": "code",
   "execution_count": 1,
   "metadata": {},
   "outputs": [],
   "source": [
    "from pathlib import Path\n",
    "\n",
    "import catboost as cb\n",
    "import numpy as np\n",
    "import pandas as pd\n",
    "from iterstrat.ml_stratifiers import MultilabelStratifiedKFold\n",
    "from sklearn.model_selection import train_test_split"
   ]
  },
  {
   "cell_type": "code",
   "execution_count": 2,
   "metadata": {},
   "outputs": [],
   "source": [
    "data_path = Path(\"../data/\")\n",
    "seed = 42"
   ]
  },
  {
   "cell_type": "code",
   "execution_count": 3,
   "metadata": {},
   "outputs": [],
   "source": [
    "def balanced_log_loss(y_true, y_pred):\n",
    "    y_pred = np.clip(y_pred, 1e-15, 1 - 1e-15)\n",
    "\n",
    "    n0, n1 = np.bincount(y_true.astype(int))\n",
    "    w0 = 1 / (n0 / len(y_true))\n",
    "    w1 = 1 / (n1 / len(y_true))\n",
    "\n",
    "    l0 = -w0 / n0 * np.sum(np.where(y_true == 0, 1, 0) * np.log(1 - y_pred))\n",
    "    l1 = -w1 / n1 * np.sum(np.where(y_true != 0, 1, 0) * np.log(y_pred))\n",
    "\n",
    "    return (l0 + l1) / (w0 + w1)\n"
   ]
  },
  {
   "cell_type": "code",
   "execution_count": 4,
   "metadata": {},
   "outputs": [],
   "source": [
    "# read data\n",
    "train_df = pd.read_csv(data_path / \"train.csv\")\n",
    "test_df = pd.read_csv(data_path / \"test.csv\")\n",
    "greeks_df = pd.read_csv(data_path / \"greeks.csv\")"
   ]
  },
  {
   "cell_type": "code",
   "execution_count": 5,
   "metadata": {},
   "outputs": [],
   "source": [
    "# some columns have trailing spaces\n",
    "train_df.columns = train_df.columns.str.strip()\n",
    "test_df.columns = test_df.columns.str.strip()\n",
    "feature_cols = train_df.columns.tolist()[1:-1]"
   ]
  },
  {
   "cell_type": "code",
   "execution_count": 6,
   "metadata": {},
   "outputs": [],
   "source": [
    "train_df, val_df = train_test_split(\n",
    "    train_df, test_size=0.2, stratify=train_df[\"Class\"], random_state=42\n",
    ")\n",
    "greeks_df = greeks_df.loc[train_df.index]\n",
    "\n",
    "train_df = train_df.reset_index()\n",
    "greeks_df = greeks_df.reset_index()"
   ]
  },
  {
   "cell_type": "code",
   "execution_count": 7,
   "metadata": {},
   "outputs": [],
   "source": [
    "# training\n",
    "oof = np.zeros(len(train_df))\n",
    "skf = MultilabelStratifiedKFold(n_splits=5, shuffle=True, random_state=seed)\n",
    "test_probs = []\n",
    "val_preds = []"
   ]
  },
  {
   "cell_type": "code",
   "execution_count": 8,
   "metadata": {},
   "outputs": [
    {
     "name": "stdout",
     "output_type": "stream",
     "text": [
      "----------------------------------------------------Fold-1----------------------------------------------------\n",
      "0:\tlearn: 0.6791237\ttest: 0.6840397\tbest: 0.6840397 (0)\ttotal: 64.7ms\tremaining: 1m 16s\n",
      "1000:\tlearn: 0.0056753\ttest: 0.3520920\tbest: 0.2878196 (243)\ttotal: 4.72s\tremaining: 834ms\n",
      "1177:\tlearn: 0.0048033\ttest: 0.3578826\tbest: 0.2878196 (243)\ttotal: 5.47s\tremaining: 0us\n",
      "\n",
      "bestTest = 0.2878196194\n",
      "bestIteration = 243\n",
      "\n",
      "Shrink model to first 244 iterations.\n",
      "----------------------------------------------------Fold-2----------------------------------------------------\n",
      "0:\tlearn: 0.6804877\ttest: 0.6831767\tbest: 0.6831767 (0)\ttotal: 3.57ms\tremaining: 4.2s\n",
      "1000:\tlearn: 0.0049614\ttest: 0.4457416\tbest: 0.3444903 (273)\ttotal: 5.09s\tremaining: 901ms\n",
      "1177:\tlearn: 0.0043805\ttest: 0.4606609\tbest: 0.3444903 (273)\ttotal: 6.09s\tremaining: 0us\n",
      "\n",
      "bestTest = 0.344490309\n",
      "bestIteration = 273\n",
      "\n",
      "Shrink model to first 274 iterations.\n",
      "----------------------------------------------------Fold-3----------------------------------------------------\n",
      "0:\tlearn: 0.6831406\ttest: 0.6859178\tbest: 0.6859178 (0)\ttotal: 4.43ms\tremaining: 5.22s\n",
      "1000:\tlearn: 0.0059619\ttest: 0.2225763\tbest: 0.2139288 (646)\ttotal: 5.06s\tremaining: 895ms\n",
      "1177:\tlearn: 0.0052631\ttest: 0.2227963\tbest: 0.2139288 (646)\ttotal: 6.09s\tremaining: 0us\n",
      "\n",
      "bestTest = 0.2139288422\n",
      "bestIteration = 646\n",
      "\n",
      "Shrink model to first 647 iterations.\n",
      "----------------------------------------------------Fold-4----------------------------------------------------\n",
      "0:\tlearn: 0.6813882\ttest: 0.6847268\tbest: 0.6847268 (0)\ttotal: 4.36ms\tremaining: 5.13s\n",
      "1000:\tlearn: 0.0067748\ttest: 0.2340133\tbest: 0.2208096 (411)\ttotal: 4.47s\tremaining: 790ms\n",
      "1177:\tlearn: 0.0060721\ttest: 0.2376999\tbest: 0.2208096 (411)\ttotal: 5.18s\tremaining: 0us\n",
      "\n",
      "bestTest = 0.2208095955\n",
      "bestIteration = 411\n",
      "\n",
      "Shrink model to first 412 iterations.\n",
      "----------------------------------------------------Fold-5----------------------------------------------------\n",
      "0:\tlearn: 0.6869024\ttest: 0.6885588\tbest: 0.6885588 (0)\ttotal: 4.1ms\tremaining: 4.83s\n",
      "1000:\tlearn: 0.0056062\ttest: 0.4460382\tbest: 0.3361758 (217)\ttotal: 4.57s\tremaining: 808ms\n",
      "1177:\tlearn: 0.0044737\ttest: 0.4780635\tbest: 0.3361758 (217)\ttotal: 5.34s\tremaining: 0us\n",
      "\n",
      "bestTest = 0.3361758432\n",
      "bestIteration = 217\n",
      "\n",
      "Shrink model to first 218 iterations.\n",
      "--------------------------------------------------------------------------------------------------------------\n",
      "OOF score: 0.3782\n",
      "CV score: 0.4015\n"
     ]
    }
   ],
   "source": [
    "fold = 1\n",
    "for train_idx, val_idx in skf.split(train_df, greeks_df.iloc[:, 1:-1]):\n",
    "\n",
    "    print(f\"Fold-{fold}\".center(110, \"-\"))\n",
    "    fold += 1\n",
    "\n",
    "    X_train, y_train = (\n",
    "        train_df.loc[train_idx, feature_cols],\n",
    "        train_df.loc[train_idx, \"Class\"],\n",
    "    )\n",
    "\n",
    "    X_val, y_val = (\n",
    "        train_df.loc[val_idx, feature_cols],\n",
    "        train_df.loc[val_idx, \"Class\"],\n",
    "    )\n",
    "\n",
    "    params = {\n",
    "        \"iterations\": 1178,\n",
    "        \"use_best_model\": True,\n",
    "        \"learning_rate\": 0.02307884135288726,\n",
    "        \"l2_leaf_reg\": 8,\n",
    "        \"random_strength\": 2,\n",
    "        \"bagging_temperature\": 7.043228545140888,\n",
    "        \"grow_policy\": \"Lossguide\",\n",
    "        \"auto_class_weights\": \"Balanced\",\n",
    "        \"od_type\": \"IncToDec\",\n",
    "        \"od_wait\": 36,\n",
    "    }\n",
    "    # params = {\n",
    "    #     \"iterations\": 10000,\n",
    "    #     \"learning_rate\": 0.005,\n",
    "    #     \"early_stopping_rounds\": 1000,\n",
    "    #     \"auto_class_weights\": \"Balanced\",\n",
    "    #     \"loss_function\": \"MultiClass\",\n",
    "    #     \"eval_metric\": \"MultiClass:use_weights=False\",\n",
    "    #     \"random_seed\": 42,\n",
    "    #     \"use_best_model\": True,\n",
    "    #     \"l2_leaf_reg\": 1,\n",
    "    #     \"max_ctr_complexity\": 15,\n",
    "    #     \"max_depth\": 10,\n",
    "    #     \"grow_policy\": \"Lossguide\",\n",
    "    #     \"max_leaves\": 64,\n",
    "    #     \"min_data_in_leaf\": 40,\n",
    "    # }\n",
    "\n",
    "    model = cb.CatBoostClassifier(**params)\n",
    "    model.fit(\n",
    "        X_train, y_train, eval_set=[(X_val, y_val)], cat_features=[\"EJ\"], verbose=1000\n",
    "    )\n",
    "\n",
    "    # make oof preds\n",
    "    oof[val_idx] = model.predict_proba(X_val)[:, 1]\n",
    "\n",
    "    # make val preds\n",
    "    val_preds.append(model.predict_proba(val_df[feature_cols])[:, 1])\n",
    "\n",
    "    # make test predictions\n",
    "    test_preds = model.predict_proba(test_df.iloc[:, 1:])\n",
    "    test_probs.append(test_preds)\n",
    "\n",
    "print(\"-\" * 110)\n",
    "print(f\"OOF score: {balanced_log_loss(train_df['Class'], oof):.4f}\")\n",
    "print(f\"CV score: {balanced_log_loss(val_df['Class'], np.mean(val_preds, axis=0)):.4f}\")\n"
   ]
  },
  {
   "cell_type": "code",
   "execution_count": 9,
   "metadata": {},
   "outputs": [],
   "source": [
    "# OOF score: 0.4016\n",
    "# CV score: 0.4071"
   ]
  },
  {
   "cell_type": "code",
   "execution_count": 10,
   "metadata": {},
   "outputs": [],
   "source": [
    "# generate a submission file\n",
    "test_probs = np.mean(test_probs, axis=0)\n",
    "sub_df = pd.DataFrame(\n",
    "    {\"Id\": test_df.Id, \"Class_0\": test_probs[:, 0], \"Class_1\": test_probs[:, 1]}\n",
    ")\n",
    "sub_df.to_csv(\"submission.csv\", index=False)\n"
   ]
  }
 ],
 "metadata": {
  "kernelspec": {
   "display_name": "base",
   "language": "python",
   "name": "python3"
  },
  "language_info": {
   "codemirror_mode": {
    "name": "ipython",
    "version": 3
   },
   "file_extension": ".py",
   "mimetype": "text/x-python",
   "name": "python",
   "nbconvert_exporter": "python",
   "pygments_lexer": "ipython3",
   "version": "3.10.9"
  },
  "orig_nbformat": 4
 },
 "nbformat": 4,
 "nbformat_minor": 2
}
