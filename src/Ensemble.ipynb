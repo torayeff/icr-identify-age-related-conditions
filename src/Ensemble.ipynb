{
 "cells": [
  {
   "cell_type": "code",
   "execution_count": 1,
   "metadata": {},
   "outputs": [],
   "source": [
    "from pathlib import Path\n",
    "\n",
    "import catboost as cb\n",
    "import numpy as np\n",
    "import pandas as pd\n",
    "from sklearn.model_selection import StratifiedKFold\n",
    "from sklearn.model_selection import train_test_split\n",
    "from imblearn.under_sampling import RandomUnderSampler"
   ]
  },
  {
   "cell_type": "code",
   "execution_count": 2,
   "metadata": {},
   "outputs": [],
   "source": [
    "data_path = Path(\"../data/\")\n",
    "seed = 42"
   ]
  },
  {
   "cell_type": "code",
   "execution_count": 3,
   "metadata": {},
   "outputs": [],
   "source": [
    "def balanced_log_loss(y_true, y_pred):\n",
    "    y_pred = np.clip(y_pred, 1e-15, 1 - 1e-15)\n",
    "\n",
    "    n0, n1 = np.bincount(y_true.astype(int))\n",
    "    w0 = 1 / (n0 / len(y_true))\n",
    "    w1 = 1 / (n1 / len(y_true))\n",
    "\n",
    "    l0 = -w0 / n0 * np.sum(np.where(y_true == 0, 1, 0) * np.log(1 - y_pred))\n",
    "    l1 = -w1 / n1 * np.sum(np.where(y_true != 0, 1, 0) * np.log(y_pred))\n",
    "\n",
    "    return (l0 + l1) / (w0 + w1)\n"
   ]
  },
  {
   "cell_type": "code",
   "execution_count": 4,
   "metadata": {},
   "outputs": [],
   "source": [
    "# read data\n",
    "train_df = pd.read_csv(data_path / \"train.csv\")\n",
    "test_df = pd.read_csv(data_path / \"test.csv\")\n",
    "greeks_df = pd.read_csv(data_path / \"greeks.csv\")"
   ]
  },
  {
   "cell_type": "code",
   "execution_count": 5,
   "metadata": {},
   "outputs": [],
   "source": [
    "# some columns have trailing spaces\n",
    "train_df.columns = train_df.columns.str.strip()\n",
    "test_df.columns = test_df.columns.str.strip()\n",
    "feature_cols = train_df.columns.tolist()[1:-1]"
   ]
  },
  {
   "cell_type": "code",
   "execution_count": 6,
   "metadata": {},
   "outputs": [],
   "source": [
    "train_df, val_df = train_test_split(\n",
    "    train_df, test_size=0.2, stratify=train_df[\"Class\"], random_state=42\n",
    ")\n",
    "greeks_df = greeks_df.loc[train_df.index]\n",
    "\n",
    "train_df = train_df.reset_index(drop=True)\n",
    "greeks_df = greeks_df.reset_index(drop=True)\n",
    "\n",
    "train_df.drop(columns=[\"Id\"], inplace=True)"
   ]
  },
  {
   "cell_type": "code",
   "execution_count": 7,
   "metadata": {},
   "outputs": [
    {
     "name": "stdout",
     "output_type": "stream",
     "text": [
      "**********************************************************************Ensemble-1**********************************************************************\n",
      "OOF score: 0.2565\n",
      "CV score: 0.3018\n",
      "**********************************************************************Ensemble-2**********************************************************************\n",
      "OOF score: 0.2843\n",
      "CV score: 0.3720\n",
      "**********************************************************************Ensemble-3**********************************************************************\n",
      "OOF score: 0.1918\n",
      "CV score: 0.2743\n",
      "**********************************************************************Ensemble-4**********************************************************************\n",
      "OOF score: 0.2412\n",
      "CV score: 0.2693\n",
      "**********************************************************************Ensemble-5**********************************************************************\n",
      "OOF score: 0.2895\n",
      "CV score: 0.3170\n",
      "**********************************************************************Ensemble-6**********************************************************************\n",
      "OOF score: 0.2239\n",
      "CV score: 0.3455\n",
      "**********************************************************************Ensemble-7**********************************************************************\n",
      "OOF score: 0.3190\n",
      "CV score: 0.3261\n",
      "**********************************************************************Ensemble-8**********************************************************************\n",
      "OOF score: 0.2391\n",
      "CV score: 0.3184\n",
      "**********************************************************************Ensemble-9**********************************************************************\n",
      "OOF score: 0.2943\n",
      "CV score: 0.3482\n",
      "*********************************************************************Ensemble-10**********************************************************************\n",
      "OOF score: 0.2699\n",
      "CV score: 0.3271\n",
      "*********************************************************************Ensemble-11**********************************************************************\n",
      "OOF score: 0.3282\n",
      "CV score: 0.3140\n",
      "*********************************************************************Ensemble-12**********************************************************************\n",
      "OOF score: 0.2753\n",
      "CV score: 0.3656\n",
      "*********************************************************************Ensemble-13**********************************************************************\n",
      "OOF score: 0.2846\n",
      "CV score: 0.3728\n",
      "*********************************************************************Ensemble-14**********************************************************************\n",
      "OOF score: 0.3472\n",
      "CV score: 0.2929\n",
      "*********************************************************************Ensemble-15**********************************************************************\n",
      "OOF score: 0.3010\n",
      "CV score: 0.3238\n",
      "*********************************************************************Ensemble-16**********************************************************************\n",
      "OOF score: 0.2581\n",
      "CV score: 0.3012\n",
      "*********************************************************************Ensemble-17**********************************************************************\n",
      "OOF score: 0.3135\n",
      "CV score: 0.3175\n",
      "*********************************************************************Ensemble-18**********************************************************************\n",
      "OOF score: 0.2305\n",
      "CV score: 0.3841\n",
      "*********************************************************************Ensemble-19**********************************************************************\n",
      "OOF score: 0.2698\n",
      "CV score: 0.3673\n",
      "*********************************************************************Ensemble-20**********************************************************************\n",
      "OOF score: 0.2565\n",
      "CV score: 0.2479\n",
      "*********************************************************************Ensemble-21**********************************************************************\n",
      "OOF score: 0.2809\n",
      "CV score: 0.3210\n",
      "*********************************************************************Ensemble-22**********************************************************************\n",
      "OOF score: 0.2887\n",
      "CV score: 0.3447\n",
      "*********************************************************************Ensemble-23**********************************************************************\n",
      "OOF score: 0.2507\n",
      "CV score: 0.3566\n",
      "*********************************************************************Ensemble-24**********************************************************************\n",
      "OOF score: 0.2289\n",
      "CV score: 0.3228\n",
      "*********************************************************************Ensemble-25**********************************************************************\n",
      "OOF score: 0.2734\n",
      "CV score: 0.3113\n"
     ]
    }
   ],
   "source": [
    "num_ensembles = 25\n",
    "\n",
    "all_val_preds = []\n",
    "all_test_preds = []\n",
    "\n",
    "for ens in range(num_ensembles):\n",
    "    print(f\"Ensemble-{ens + 1}\".center(150, \"*\"))\n",
    "    # training\n",
    "    \n",
    "    under_sampler = RandomUnderSampler(random_state=ens)\n",
    "    df, _ = under_sampler.fit_resample(train_df, train_df[\"Class\"])\n",
    "\n",
    "    oof_preds = np.zeros(len(df))\n",
    "    val_preds = []\n",
    "    test_preds = []\n",
    "\n",
    "    fold = 1\n",
    "    skf = StratifiedKFold(n_splits=5, shuffle=True, random_state=ens)\n",
    "    for train_idx, val_idx in skf.split(df, df[\"Class\"]):\n",
    "        # print(f\"Fold-{fold}\".center(110, \"-\"))\n",
    "        fold += 1\n",
    "\n",
    "        X_train, y_train = (\n",
    "            df.loc[train_idx, feature_cols],\n",
    "            df.loc[train_idx, \"Class\"],\n",
    "        )\n",
    "\n",
    "        X_val, y_val = (\n",
    "            df.loc[val_idx, feature_cols],\n",
    "            df.loc[val_idx, \"Class\"],\n",
    "        )\n",
    "\n",
    "        params = {\n",
    "            \"iterations\": 10000,\n",
    "            \"early_stopping_rounds\": 1000,\n",
    "            \"use_best_model\": True,\n",
    "            \"random_seed\": ens,\n",
    "        }\n",
    "\n",
    "        model = cb.CatBoostClassifier(**params)\n",
    "        model.fit(\n",
    "            X_train, y_train, eval_set=[(X_val, y_val)], cat_features=[\"EJ\"], verbose=False\n",
    "        )\n",
    "\n",
    "        # make oof preds\n",
    "        oof_preds[val_idx] = model.predict_proba(X_val)[:, 1]\n",
    "\n",
    "        # make val preds\n",
    "        val_preds.append(model.predict_proba(val_df[feature_cols])[:, 1])\n",
    "\n",
    "        # make test predictions\n",
    "        # notice we are logging probs for both classes\n",
    "        test_preds.append(model.predict_proba(test_df.iloc[:, 1:]))\n",
    "\n",
    "    # print(\"-\" * 110)\n",
    "    print(f\"OOF score: {balanced_log_loss(df['Class'], oof_preds):.4f}\")\n",
    "    print(f\"CV score: {balanced_log_loss(val_df['Class'], np.mean(val_preds, axis=0)):.4f}\")\n",
    "\n",
    "    # save predictions\n",
    "    all_val_preds.append(val_preds.copy())\n",
    "    all_test_preds.append(test_preds.copy())\n"
   ]
  },
  {
   "cell_type": "code",
   "execution_count": 8,
   "metadata": {},
   "outputs": [
    {
     "name": "stdout",
     "output_type": "stream",
     "text": [
      "CV score: 0.3073\n"
     ]
    }
   ],
   "source": [
    "mean_val_preds = np.mean(np.mean(all_val_preds, axis=1), axis=0)\n",
    "print(f\"CV score: {balanced_log_loss(val_df['Class'], mean_val_preds):.4f}\")"
   ]
  },
  {
   "cell_type": "code",
   "execution_count": 9,
   "metadata": {},
   "outputs": [],
   "source": [
    "# generate a submission file\n",
    "test_probs = np.mean(np.mean(all_test_preds, axis=1), axis=0)\n",
    "sub_df = pd.DataFrame(\n",
    "    {\"Id\": test_df.Id, \"Class_0\": test_probs[:, 0], \"Class_1\": test_probs[:, 1]}\n",
    ")\n",
    "sub_df.to_csv(\"submission.csv\", index=False)"
   ]
  }
 ],
 "metadata": {
  "kernelspec": {
   "display_name": "base",
   "language": "python",
   "name": "python3"
  },
  "language_info": {
   "codemirror_mode": {
    "name": "ipython",
    "version": 3
   },
   "file_extension": ".py",
   "mimetype": "text/x-python",
   "name": "python",
   "nbconvert_exporter": "python",
   "pygments_lexer": "ipython3",
   "version": "3.10.9"
  },
  "orig_nbformat": 4
 },
 "nbformat": 4,
 "nbformat_minor": 2
}
