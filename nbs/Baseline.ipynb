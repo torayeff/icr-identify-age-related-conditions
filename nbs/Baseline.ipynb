{
 "cells": [
  {
   "cell_type": "code",
   "execution_count": 1,
   "metadata": {},
   "outputs": [],
   "source": [
    "from pathlib import Path\n",
    "\n",
    "import numpy as np\n",
    "import pandas as pd\n",
    "from scipy.sparse import csr_matrix\n",
    "from sklearn.ensemble import RandomForestClassifier\n",
    "from sklearn.impute import SimpleImputer\n",
    "from sklearn.metrics import accuracy_score\n",
    "from sklearn.model_selection import StratifiedKFold\n",
    "from sklearn.preprocessing import OneHotEncoder"
   ]
  },
  {
   "cell_type": "code",
   "execution_count": 5,
   "metadata": {},
   "outputs": [],
   "source": [
    "data_path = Path(\"../data/\")"
   ]
  },
  {
   "cell_type": "code",
   "execution_count": 2,
   "metadata": {},
   "outputs": [],
   "source": [
    "# read data\n",
    "train_df = pd.read_csv(data_path/\"train.csv\")\n",
    "test_df = pd.read_csv(data_path/\"test.csv\")\n",
    "test_ids = test_df[\"Id\"]\n",
    "\n",
    "# preprocess data\n",
    "feature_columns = train_df.columns[1:-1]\n",
    "X_train, y_train = train_df[feature_columns], train_df[\"Class\"]\n",
    "X_test = test_df[feature_columns]\n",
    "\n",
    "# convert categorical values\n",
    "oh_encoder = OneHotEncoder(handle_unknown=\"ignore\")\n",
    "X_train_encoded = oh_encoder.fit_transform(X_train[[\"EJ\"]])\n",
    "X_test_encoded = oh_encoder.transform(X_test[[\"EJ\"]])\n",
    "\n",
    "# concatenate the encoded features with the original features\n",
    "X_train = np.concatenate(\n",
    "    [X_train.drop(\"EJ\", axis=1), csr_matrix(X_train_encoded).toarray()], axis=1\n",
    ")\n",
    "X_test = np.concatenate(\n",
    "    [X_test.drop(\"EJ\", axis=1), csr_matrix(X_test_encoded).toarray()], axis=1\n",
    ")\n",
    "\n",
    "# impute missing values with the mean of the column\n",
    "imputer = SimpleImputer(strategy=\"mean\")\n",
    "X_train = imputer.fit_transform(X_train)\n",
    "X_test = imputer.transform(X_test)"
   ]
  },
  {
   "cell_type": "code",
   "execution_count": 3,
   "metadata": {},
   "outputs": [],
   "source": [
    "def balanced_log_loss(y_true, pred_probs):\n",
    "    pred_probs = np.maximum(np.minimum(pred_probs, 1 - 1e-15), 1e-15)\n",
    "    pred_probs = pred_probs / np.sum(pred_probs, axis=1)[:, None]\n",
    "\n",
    "    n0, n1 = np.bincount(y_true)\n",
    "    w0 = 1 / (n0 / len(y_true))\n",
    "    w1 = 1 / (n1 / len(y_true))\n",
    "\n",
    "    l0 = -w0 / n0 * np.sum(np.where(y_true == 0, 1, 0) * np.log(pred_probs[:, 0]))\n",
    "    l1 = -w1 / n1 * np.sum(np.where(y_true == 1, 1, 0) * np.log(pred_probs[:, 1]))\n",
    "\n",
    "    return (l0 + l1) / (w0 + w1)"
   ]
  },
  {
   "cell_type": "code",
   "execution_count": 4,
   "metadata": {},
   "outputs": [
    {
     "name": "stdout",
     "output_type": "stream",
     "text": [
      "Validation accuracy: 0.9113. Balanced log loss: 0.6173\n",
      "Validation accuracy: 0.9274. Balanced log loss: 0.6783\n",
      "Validation accuracy: 0.9024. Balanced log loss: 0.6268\n",
      "Validation accuracy: 0.8862. Balanced log loss: 1.0075\n",
      "Validation accuracy: 0.9593. Balanced log loss: 0.5217\n"
     ]
    }
   ],
   "source": [
    "n_splits = 5\n",
    "kf = StratifiedKFold(n_splits=n_splits, shuffle=True, random_state=42)\n",
    "model = RandomForestClassifier(n_estimators=100, random_state=42)\n",
    "test_probs = np.zeros((len(test_df), 2))\n",
    "\n",
    "for train_idx, val_idx in kf.split(X_train, y_train):\n",
    "    X_train_fold, y_train_fold = X_train[train_idx], y_train[train_idx]\n",
    "    X_val_fold, y_val_fold = X_train[val_idx], y_train[val_idx]\n",
    "\n",
    "    model.fit(X_train_fold, y_train_fold)\n",
    "    val_probs = model.predict_proba(X_val_fold)\n",
    "    val_pred = model.predict(X_val_fold)\n",
    "\n",
    "    acc = accuracy_score(y_val_fold, np.argmax(val_probs, axis=1))\n",
    "    print(\n",
    "        f\"Validation accuracy: {acc:.4f}.\",\n",
    "        f\"Balanced log loss: {balanced_log_loss(y_val_fold, val_probs):.4f}\",\n",
    "    )\n",
    "\n",
    "    test_fold_probs = model.predict_proba(X_test)\n",
    "    test_probs += test_fold_probs / n_splits\n",
    "\n",
    "\n",
    "sub_df = pd.DataFrame(\n",
    "    {\"Id\": test_ids, \"Class_0\": test_probs[:, 0], \"Class_1\": test_probs[:, 1]}\n",
    ")\n",
    "sub_df.to_csv(\"submission.csv\", index=False)"
   ]
  }
 ],
 "metadata": {
  "kernelspec": {
   "display_name": "base",
   "language": "python",
   "name": "python3"
  },
  "language_info": {
   "codemirror_mode": {
    "name": "ipython",
    "version": 3
   },
   "file_extension": ".py",
   "mimetype": "text/x-python",
   "name": "python",
   "nbconvert_exporter": "python",
   "pygments_lexer": "ipython3",
   "version": "3.10.9"
  },
  "orig_nbformat": 4
 },
 "nbformat": 4,
 "nbformat_minor": 2
}
